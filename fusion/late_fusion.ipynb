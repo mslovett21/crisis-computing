{
  "nbformat": 4,
  "nbformat_minor": 0,
  "metadata": {
    "colab": {
      "name": "late_fusion.ipynb",
      "provenance": [],
      "collapsed_sections": []
    },
    "kernelspec": {
      "name": "python3",
      "display_name": "Python 3"
    },
    "accelerator": "GPU"
  },
  "cells": [
    {
      "cell_type": "code",
      "metadata": {
        "id": "ZErqV44Bl6WW"
      },
      "source": [
        "import pandas as pd\n",
        "import numpy as np\n",
        "import matplotlib.pyplot as plt\n",
        "from sklearn.metrics import confusion_matrix\n",
        "from sklearn.metrics import classification_report\n",
        "import seaborn as sns\n",
        "import torch\n",
        "from sklearn.linear_model import LogisticRegression"
      ],
      "execution_count": 30,
      "outputs": []
    },
    {
      "cell_type": "code",
      "metadata": {
        "id": "EO2kn7ZHnJeG"
      },
      "source": [
        "PATH_TEXT_TRAIN = '/crisis-computing/text-analysis-scripts/additional_files/predictions_full_train_df.csv'\n",
        "PATH_TEXT_TEST = '/crisis-computing/text-analysis-scripts/additional_files/predictions_test_df.csv'\n",
        "PATH_IMAGE_TRAIN = '/crisis-computing/ResNet50/predictions_train.csv'\n",
        "PATH_IMAGE_TEST = '/crisis-computing/ResNet50/predictions_test.csv'\n",
        "\n",
        "def extract_data():\n",
        "  \"\"\"\n",
        "  returns tweets train and test set, image train and test set\n",
        "  \"\"\"\n",
        "  text_test = pd.read_csv(PATH_TEXT_TEST)\n",
        "\n",
        "  text_train = pd.read_csv(PATH_TEXT_TRAIN)\n",
        "\n",
        "  # replaced 1 with 0 and 0 with 1 because model was trained with 0 as Informative and 1 as Non informative\n",
        "  img_test = pd.read_csv(PATH_IMAGE_TEST)\n",
        "  img_test['actual_label'].replace([0,1],[1,0], inplace=True)\n",
        "\n",
        "  img_train = pd.read_csv(PATH_IMAGE_TRAIN)\n",
        "  img_train['actual_label'].replace([0,1],[1,0], inplace=True)\n",
        "\n",
        "  return text_train, text_test, img_train, img_test\n",
        "\n",
        "# call to extract_data\n",
        "text_train, text_test, img_train, img_test = extract_data()"
      ],
      "execution_count": 4,
      "outputs": []
    },
    {
      "cell_type": "code",
      "metadata": {
        "id": "aTUjKvglngEj"
      },
      "source": [
        "def generate_train_data(img_train, text_train):\n",
        "  \"\"\"\n",
        "  returns train_data in format ['image_probabilities', 'text_probabilities', 'actual output label']\n",
        "  params: text_train: text based train dataset\n",
        "          img_train: image based train dataset\n",
        "  \"\"\"\n",
        "  train_data = pd.DataFrame(columns=[\"image_prob\", \"text_prob\", 'output'])\n",
        "\n",
        "  for ind, row in img_train.iterrows():\n",
        "    t_row = text_train.loc[text_train['tweet_id']==row['tweet_id']]\n",
        "    prob = pd.Series([row['predicted_probability'], t_row['predictions'].values[0], row['actual_label']],index=train_data.columns)\n",
        "    train_data = train_data.append(prob, ignore_index=True)\n",
        "  \n",
        "  return train_data\n",
        "\n",
        "# call to generate_train_data\n",
        "train_data = generate_train_data(img_train, text_train)"
      ],
      "execution_count": 5,
      "outputs": []
    },
    {
      "cell_type": "code",
      "metadata": {
        "id": "XEjwLEzVi0JM"
      },
      "source": [
        "def generate_test_data(img_test, text_test):\n",
        "  \"\"\"\n",
        "  returns train_data in format ['image_probabilities', 'text_probabilities', 'actual output label']\n",
        "  params: text_test: text based test dataset\n",
        "          img_test: image based test dataset\n",
        "  \"\"\"\n",
        "  test_data = pd.DataFrame(columns=[\"image_prob\", \"text_prob\", 'output'])\n",
        "\n",
        "  for ind, row in img_test.iterrows():\n",
        "    t_row = text_test.loc[text_test['tweet_id']==row['tweet_id']]\n",
        "    prob = pd.Series([row['predicted_probability'], t_row['predictions'].values[0], row['actual_label']],index=test_data.columns)\n",
        "    test_data = test_data.append(prob, ignore_index=True)\n",
        "  \n",
        "  return test_data\n",
        "\n",
        "# call to generate_train_data\n",
        "test_data = generate_test_data(img_test, text_test)"
      ],
      "execution_count": 6,
      "outputs": []
    },
    {
      "cell_type": "code",
      "metadata": {
        "colab": {
          "base_uri": "https://localhost:8080/",
          "height": 833
        },
        "id": "crUuxN1qn-Dn",
        "outputId": "5f71505d-47ce-49c7-8ac1-a07e1a21893b"
      },
      "source": [
        "def mean_prob_concatenation(test_data):\n",
        "  \"\"\"\n",
        "   Class prediction probabilities obtained by both textual and visual\n",
        "   modalities have been combined, averaged and then thresholded\n",
        "   params: test_data: testing dataset\n",
        "   returns fused output of image classification and text classification\n",
        "  \"\"\"\n",
        "  fusion_op = (test_data['image_prob'] + test_data['text_prob']).div(2)\n",
        "  fusion_op[fusion_op>0.5] = 1\n",
        "  fusion_op[fusion_op<=0.5] = 0\n",
        "\n",
        "  return fusion_op\n",
        "\n",
        "def plot_confusion_matrix(actual_data, predicted_data, title):\n",
        "  \"\"\"\n",
        "  Plots confusion matrix of the classified test data and prints various classification metrics\n",
        "  params: actual_data: true labels of test set\n",
        "          predicted_data: predicted labels on test set\n",
        "  \"\"\"\n",
        "  classes = ['Informative', 'Non-Informative']\n",
        "  conf_mat = confusion_matrix(actual_data, predicted_data, labels = [1,0])\n",
        "  ax = plt.figure(figsize=(12,12))\n",
        "  plt.title(title)\n",
        "  sns.heatmap(conf_mat, xticklabels=classes, yticklabels=classes,cmap='Blues', annot=True, fmt='d',\n",
        "              linewidths=1, square=True)\n",
        "  print(classification_report(actual_data, predicted_data, labels= [1, 0], target_names=[\"Informative\", \"Non-Informative\"]))\n",
        "\n",
        "# call to mean_prob_concatenation method\n",
        "fusion_op = mean_prob_concatenation(test_data)\n",
        "plot_confusion_matrix(test_data['output'], fusion_op, \"Mean Probability Concatenation Confusion Matrix\")"
      ],
      "execution_count": 29,
      "outputs": [
        {
          "output_type": "stream",
          "text": [
            "                 precision    recall  f1-score   support\n",
            "\n",
            "    Informative       0.95      0.92      0.94      1673\n",
            "Non-Informative       0.87      0.91      0.89       903\n",
            "\n",
            "       accuracy                           0.92      2576\n",
            "      macro avg       0.91      0.92      0.91      2576\n",
            "   weighted avg       0.92      0.92      0.92      2576\n",
            "\n"
          ],
          "name": "stdout"
        },
        {
          "output_type": "display_data",
          "data": {
            "image/png": "[encoded data removed]",
            "text/plain": [
              "<Figure size 864x864 with 2 Axes>"
            ]
          },
          "metadata": {
            "tags": [],
            "needs_background": "light"
          }
        }
      ]
    },
    {
      "cell_type": "code",
      "metadata": {
        "id": "ljfdBq2azvN_"
      },
      "source": [
        "class MLP(torch.nn.Module):\n",
        "  \"\"\"\n",
        "  MLP Architecture\n",
        "  \"\"\"\n",
        "  def __init__(self, input_size=2, hidden_dim=128):\n",
        "    super(MLP,self).__init__()\n",
        "\n",
        "    self.model = torch.nn.Sequential(\n",
        "        torch.nn.Linear(input_size, hidden_dim),\n",
        "        torch.nn.ReLU(),\n",
        "        torch.nn.Linear(hidden_dim, 1),\n",
        "        torch.nn.Sigmoid()\n",
        "    )\n",
        "\n",
        "  def forward(self,x):\n",
        "    output = self.model(x)\n",
        "    return output\n",
        "\n",
        "class Dataloader(torch.utils.data.Dataset):\n",
        "  def __init__(self,data):\n",
        "    self.feat = data[[\"image_prob\", \"text_prob\"]]\n",
        "    self.label = data[\"output\"]\n",
        "  \n",
        "  def __len__(self):\n",
        "    return len(self.label)\n",
        "  \n",
        "  def __getitem__(self, idx):\n",
        "    feat = self.feat.iloc[idx].values\n",
        "    label = self.label.iloc[idx]\n",
        "    return feat, label\n"
      ],
      "execution_count": 31,
      "outputs": []
    },
    {
      "cell_type": "code",
      "metadata": {
        "id": "zgNANLrBqAT8"
      },
      "source": [
        "BATCH_SIZE = 64\n",
        "\n",
        "def create_dataloaders(train_data, test_data):\n",
        "  \"\"\"\n",
        "  returns train and test data-loaders to perform inference on.\n",
        "  params: train_data, test_data: train and test data in the format [feat, labels] dataframe.\n",
        "  \"\"\"\n",
        "  train_loader = Dataloader(train_data.astype('float32'))\n",
        "  test_loader = Dataloader(test_data.astype('float32'))\n",
        "\n",
        "  train_loader = torch.utils.data.DataLoader(train_loader, shuffle=True, batch_size=BATCH_SIZE, num_workers=4)\n",
        "  test_loader = torch.utils.data.DataLoader(test_loader, shuffle=True, batch_size=len(test_loader), num_workers=4)\n",
        "\n",
        "  return train_loader, test_loader\n",
        "\n",
        "# call to create_dataloaders\n",
        "train_loader, test_loader = create_dataloaders(train_data, test_data)"
      ],
      "execution_count": 32,
      "outputs": []
    },
    {
      "cell_type": "code",
      "metadata": {
        "colab": {
          "base_uri": "https://localhost:8080/",
          "height": 1000
        },
        "id": "ntBhS1VL4XZa",
        "outputId": "989af1a4-6f44-4757-f2b4-8f1c31899574"
      },
      "source": [
        "# training params\n",
        "learning_rate = 0.01\n",
        "epochs = 30\n",
        "mlp = MLP().cuda()\n",
        "mlp.train()\n",
        "optimizer = torch.optim.Adam(mlp.parameters(), lr = learning_rate, betas=(0.9,0.999))\n",
        "criterion = torch.nn.BCELoss()\n",
        "PATH_CKPT = '/content/mlp.pth'\n",
        "\n",
        "def train_model(epochs, criterion, optimizer, model, train_loader):\n",
        "  \"\"\"\n",
        "  returns loss from training the MLP architecture \n",
        "  \"\"\"\n",
        "  training_loss = []\n",
        "  for epoch in range(epochs):\n",
        "    epoch_loss = 0\n",
        "    for (feat, label) in train_loader:\n",
        "      feat = feat.cuda()\n",
        "      label = label.cuda()\n",
        "      optimizer.zero_grad()\n",
        "      output = mlp(feat)\n",
        "      loss = criterion(output.squeeze(), label)\n",
        "      loss.backward()\n",
        "      optimizer.step()\n",
        "      epoch_loss += loss.item()\n",
        "    epoch_loss/=len(train_loader)\n",
        "    training_loss.append(epoch_loss)\n",
        "    print(\"Epoch: {}\".format(epoch+1))\n",
        "    print(\"Train loss: {0:.2f}\".format(epoch_loss))\n",
        "    print(\"------------------------\")\n",
        "\n",
        "  torch.save(mlp.state_dict(), PATH_CKPT)\n",
        "  print(\"Training done!\")\n",
        "  return training_loss\n",
        "\n",
        "def plot_loss(train_loss, epoch):\n",
        "    \"\"\"\n",
        "    plots train loss curve\n",
        "    \"\"\"\n",
        "    epochs = range(1,epoch+1)\n",
        "    plt.plot(epochs, train_loss, 'g', label='Training loss')\n",
        "    plt.title('Training loss')\n",
        "    plt.xlabel('Epochs')\n",
        "    plt.ylabel('Loss')\n",
        "    plt.legend()\n",
        "    plt.show()\n",
        "\n",
        "# call to train_model and plot_loss\n",
        "train_loss = train_model(epochs, criterion, optimizer, mlp, train_loader)\n",
        "plot_loss(train_loss, epochs)"
      ],
      "execution_count": 33,
      "outputs": [
        {
          "output_type": "stream",
          "text": [
            "Epoch: 1\n",
            "Train loss: 0.11\n",
            "------------------------\n",
            "Epoch: 2\n",
            "Train loss: 0.09\n",
            "------------------------\n",
            "Epoch: 3\n",
            "Train loss: 0.09\n",
            "------------------------\n",
            "Epoch: 4\n",
            "Train loss: 0.08\n",
            "------------------------\n",
            "Epoch: 5\n",
            "Train loss: 0.09\n",
            "------------------------\n",
            "Epoch: 6\n",
            "Train loss: 0.09\n",
            "------------------------\n",
            "Epoch: 7\n",
            "Train loss: 0.08\n",
            "------------------------\n",
            "Epoch: 8\n",
            "Train loss: 0.08\n",
            "------------------------\n",
            "Epoch: 9\n",
            "Train loss: 0.08\n",
            "------------------------\n",
            "Epoch: 10\n",
            "Train loss: 0.08\n",
            "------------------------\n",
            "Epoch: 11\n",
            "Train loss: 0.08\n",
            "------------------------\n",
            "Epoch: 12\n",
            "Train loss: 0.08\n",
            "------------------------\n",
            "Epoch: 13\n",
            "Train loss: 0.08\n",
            "------------------------\n",
            "Epoch: 14\n",
            "Train loss: 0.08\n",
            "------------------------\n",
            "Epoch: 15\n",
            "Train loss: 0.08\n",
            "------------------------\n",
            "Epoch: 16\n",
            "Train loss: 0.08\n",
            "------------------------\n",
            "Epoch: 17\n",
            "Train loss: 0.08\n",
            "------------------------\n",
            "Epoch: 18\n",
            "Train loss: 0.08\n",
            "------------------------\n",
            "Epoch: 19\n",
            "Train loss: 0.08\n",
            "------------------------\n",
            "Epoch: 20\n",
            "Train loss: 0.08\n",
            "------------------------\n",
            "Epoch: 21\n",
            "Train loss: 0.08\n",
            "------------------------\n",
            "Epoch: 22\n",
            "Train loss: 0.08\n",
            "------------------------\n",
            "Epoch: 23\n",
            "Train loss: 0.08\n",
            "------------------------\n",
            "Epoch: 24\n",
            "Train loss: 0.08\n",
            "------------------------\n",
            "Epoch: 25\n",
            "Train loss: 0.08\n",
            "------------------------\n",
            "Epoch: 26\n",
            "Train loss: 0.08\n",
            "------------------------\n",
            "Epoch: 27\n",
            "Train loss: 0.08\n",
            "------------------------\n",
            "Epoch: 28\n",
            "Train loss: 0.08\n",
            "------------------------\n",
            "Epoch: 29\n",
            "Train loss: 0.08\n",
            "------------------------\n",
            "Epoch: 30\n",
            "Train loss: 0.08\n",
            "------------------------\n",
            "Training done!\n"
          ],
          "name": "stdout"
        },
        {
          "output_type": "display_data",
          "data": {
            "image/png": "[encoded data removed]",
            "text/plain": [
              "<Figure size 432x288 with 1 Axes>"
            ]
          },
          "metadata": {
            "tags": [],
            "needs_background": "light"
          }
        }
      ]
    },
    {
      "cell_type": "code",
      "metadata": {
        "colab": {
          "base_uri": "https://localhost:8080/",
          "height": 833
        },
        "id": "EmMcdWzguZ5A",
        "outputId": "dcccb8b0-ef04-4061-fd56-5333214de341"
      },
      "source": [
        "# load stored model\n",
        "model = MLP().cuda()\n",
        "model.load_state_dict(torch.load(PATH_CKPT))\n",
        "\n",
        "def test(model, test_loader):\n",
        "  \"\"\"\n",
        "  performs forward pass on test set.\n",
        "  \"\"\"\n",
        "  model.eval()\n",
        "  predictions = []\n",
        "  actual = []\n",
        "  with torch.no_grad():\n",
        "    for (feat, label) in test_loader:\n",
        "      feat = feat.cuda()\n",
        "      output = model(feat)\n",
        "      actual = label.cpu()\n",
        "      predictions = (output.squeeze()>0.5).cpu().float()\n",
        "      correct = (predictions == label).sum().item()\n",
        "   \n",
        "  return actual, predictions \n",
        "\n",
        "# call to test the model and get classification metrics\n",
        "actual_label, predicted_label = test(model, test_loader)\n",
        "plot_confusion_matrix(actual_label, predicted_label, \"Custom Decision Policy Confusion Matrix\")"
      ],
      "execution_count": 34,
      "outputs": [
        {
          "output_type": "stream",
          "text": [
            "                 precision    recall  f1-score   support\n",
            "\n",
            "    Informative       0.94      0.93      0.94      1673\n",
            "Non-Informative       0.88      0.89      0.88       903\n",
            "\n",
            "       accuracy                           0.92      2576\n",
            "      macro avg       0.91      0.91      0.91      2576\n",
            "   weighted avg       0.92      0.92      0.92      2576\n",
            "\n"
          ],
          "name": "stdout"
        },
        {
          "output_type": "display_data",
          "data": {
            "image/png": "[encoded data removed]",
            "text/plain": [
              "<Figure size 864x864 with 2 Axes>"
            ]
          },
          "metadata": {
            "tags": [],
            "needs_background": "light"
          }
        }
      ]
    },
    {
      "cell_type": "code",
      "metadata": {
        "colab": {
          "base_uri": "https://localhost:8080/",
          "height": 833
        },
        "id": "S0AFv38Twt-t",
        "outputId": "e7029e8a-14bf-4cc7-f0c7-16e528e0034e"
      },
      "source": [
        "def Logistic_Regression_policy(train_data, test_data):\n",
        "  \"\"\"\n",
        "  Logistic Regression Decision policy for late fusion\n",
        "  \"\"\"\n",
        "  clf = LogisticRegression(random_state=0, solver='newton-cg').fit(train_data[[\"image_prob\",\"text_prob\"]],train_data[\"output\"] )\n",
        "  predictions = clf.predict(test_data[[\"image_prob\",\"text_prob\"]])\n",
        "  correct = (predictions == test_data['output']).sum()\n",
        "  \n",
        "  return test_data['output'], predictions\n",
        "\n",
        "# call to Logistic Regression decision policy\n",
        "actual_label, predicted_label = Logistic_Regression_policy(train_data, test_data)\n",
        "plot_confusion_matrix(actual_label, predicted_label, \"Logistic Regression Decision Policy Confusion Matrix\")"
      ],
      "execution_count": 35,
      "outputs": [
        {
          "output_type": "stream",
          "text": [
            "                 precision    recall  f1-score   support\n",
            "\n",
            "    Informative       0.94      0.92      0.93      1673\n",
            "Non-Informative       0.86      0.90      0.88       903\n",
            "\n",
            "       accuracy                           0.92      2576\n",
            "      macro avg       0.90      0.91      0.91      2576\n",
            "   weighted avg       0.92      0.92      0.92      2576\n",
            "\n"
          ],
          "name": "stdout"
        },
        {
          "output_type": "display_data",
          "data": {
            "image/png": "[encoded data removed]",
            "text/plain": [
              "<Figure size 864x864 with 2 Axes>"
            ]
          },
          "metadata": {
            "tags": [],
            "needs_background": "light"
          }
        }
      ]
    },
    {
      "cell_type": "code",
      "metadata": {
        "id": "P9L351stYtYp"
      },
      "source": [
        ""
      ],
      "execution_count": null,
      "outputs": []
    }
  ]
}