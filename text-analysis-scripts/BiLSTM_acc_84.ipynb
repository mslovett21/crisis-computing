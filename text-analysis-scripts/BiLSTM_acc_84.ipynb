{
 "cells": [
  {
   "cell_type": "code",
   "execution_count": 1,
   "metadata": {},
   "outputs": [],
   "source": [
    "import pandas as pd\n",
    "import numpy as np\n",
    "import tensorflow as tf\n",
    "import os\n",
    "import matplotlib.pyplot as plt\n",
    "from keras.layers import Dense,Input,LSTM,Bidirectional,Activation,Conv1D,GRU\n",
    "from keras.callbacks import Callback\n",
    "from keras.layers import Dropout,Embedding,GlobalMaxPooling1D, MaxPooling1D, Add, Flatten\n",
    "from keras.preprocessing import text, sequence\n",
    "from keras.layers import GlobalAveragePooling1D, GlobalMaxPooling1D, concatenate, SpatialDropout1D\n",
    "from keras import initializers, regularizers, constraints, optimizers, layers, callbacks\n",
    "from keras.callbacks import EarlyStopping,ModelCheckpoint\n",
    "from keras.models import Model\n",
    "from keras.optimizers import Adam\n",
    "from sklearn.metrics import classification_report\n",
    "from sklearn.metrics import accuracy_score, roc_auc_score\n",
    "from sklearn.metrics import confusion_matrix\n",
    "import itertools\n",
    "\n",
    "from sklearn.metrics import confusion_matrix\n",
    "import itertools"
   ]
  },
  {
   "cell_type": "code",
   "execution_count": 2,
   "metadata": {},
   "outputs": [],
   "source": [
    "target_names = [\"Informative\",\"Noninforamtive\"]\n",
    "\n",
    "max_features = 1000\n",
    "max_len = 150\n",
    "embed_size = 200\n",
    "EMBEDDING_FILE = 'glove.twitter.27B/glove.twitter.27B.200d.txt'\n",
    "class_weight = {0: 1.48, 1: 0.75}\n",
    "\n",
    "\n",
    "\n",
    "METRICS = [\n",
    "      tf.keras.metrics.TruePositives(name='tp'),\n",
    "      tf.keras.metrics.FalsePositives(name='fp'),\n",
    "      tf.keras.metrics.TrueNegatives(name='tn'),\n",
    "      tf.keras.metrics.FalseNegatives(name='fn'), \n",
    "      tf.keras.metrics.BinaryAccuracy(name='accuracy'),\n",
    "      tf.keras.metrics.Precision(name='precision'),\n",
    "      tf.keras.metrics.Recall(name='recall'),\n",
    "      tf.keras.metrics.AUC(name='auc')\n",
    "]\n",
    "\n",
    "\n",
    "### ------------------------- DATA -------------------------------------\n",
    "\n",
    "DATA_PATH = \"../data/final_tweets/\"\n",
    "\n",
    "train_df = pd.read_csv(DATA_PATH +'train_df.csv')\n",
    "valid_df = pd.read_csv(DATA_PATH +'validate_df.csv')\n",
    "test_df  = pd.read_csv(DATA_PATH + 'test_df.csv')"
   ]
  },
  {
   "cell_type": "code",
   "execution_count": 3,
   "metadata": {},
   "outputs": [],
   "source": [
    "class RocAucEvaluation(Callback):\n",
    "    def __init__(self, validation_data=(), interval=1):\n",
    "        super(Callback, self).__init__()\n",
    "\n",
    "        self.interval = interval\n",
    "        self.X_val, self.y_val = validation_data\n",
    "\n",
    "    def on_epoch_end(self, epoch, logs={}):\n",
    "        if epoch % self.interval == 0:\n",
    "            y_pred = self.model.predict(self.X_val, verbose=0)\n",
    "            score = roc_auc_score(self.y_val, y_pred)\n",
    "            print(\"\\n ROC-AUC - epoch: {:d} - score: {:.6f}\".format(epoch+1, score))\n",
    "\n",
    "\n",
    "\n",
    "def BiLSTM():\n",
    "    \n",
    "    sequence_input = Input(shape=(max_len, ))\n",
    "    x = Embedding(max_features, embed_size, weights=[embedding_matrix],trainable = False)(sequence_input)\n",
    "    x = SpatialDropout1D(0.2)(x)\n",
    "    x = Bidirectional(LSTM(128, return_sequences=True,dropout=0.1,recurrent_dropout=0.1))(x)\n",
    "    x = Conv1D(64, kernel_size = 3, padding = \"valid\", kernel_initializer = \"glorot_uniform\")(x)\n",
    "    avg_pool = GlobalAveragePooling1D()(x)\n",
    "    max_pool = GlobalMaxPooling1D()(x)\n",
    "    x = concatenate([avg_pool, max_pool]) \n",
    "    x = Dense(128, activation='relu')(x)\n",
    "    x = Dropout(0.1)(x)\n",
    "    preds = Dense(1, activation=\"sigmoid\")(x)\n",
    "    model = Model(sequence_input, preds)\n",
    "    model.compile(loss='binary_crossentropy',optimizer=Adam(lr=1e-3),metrics=METRICS)\n",
    "    \n",
    "    return model    \n",
    "\n",
    "\n",
    "\n",
    "def plot_confusion_matrix(cm, classes,\n",
    "                          normalize=False,\n",
    "                          title='Confusion matrix',\n",
    "                          cmap=plt.cm.Blues):\n",
    "    \"\"\"\n",
    "    This function prints and plots the confusion matrix.\n",
    "    Normalization can be applied by setting `normalize=True`.\n",
    "    \"\"\"\n",
    "    plt.imshow(cm, interpolation='nearest', cmap=cmap)\n",
    "    plt.title(title)\n",
    "    plt.colorbar()\n",
    "    tick_marks = np.arange(len(classes))\n",
    "    plt.xticks(tick_marks, classes, rotation=45)\n",
    "    plt.yticks(tick_marks, classes)\n",
    "\n",
    "    if normalize:\n",
    "        cm = cm.astype('float') / cm.sum(axis=1)[:, np.newaxis]\n",
    "    thresh = cm.max() / 2.\n",
    "    for i, j in itertools.product(range(cm.shape[0]), range(cm.shape[1])):\n",
    "        plt.text(j, i, format(cm[i, j], '.3f'),\n",
    "                 horizontalalignment=\"center\",\n",
    "                 color=\"white\" if cm[i, j] > thresh else \"black\")\n",
    "\n",
    "    plt.tight_layout()\n",
    "    plt.ylabel('True label')\n",
    "    plt.xlabel('Predicted label')\n",
    "    plt.savefig(\"test.png\")\n",
    "    \n",
    "    \n",
    "def plot_summaries(data1, data2, title, ylabel,fname):\n",
    "    plt.plot(data1)\n",
    "    plt.plot(data2)\n",
    "    plt.title(title)\n",
    "    plt.ylabel(ylabel)\n",
    "    plt.xlabel('epoch')\n",
    "    plt.legend(['train', 'validation'], loc='upper left')\n",
    "    plt.savefig(fname +\".png\")\n",
    "\n",
    "\n",
    "\n",
    " # unbalanced dataset - get weights\n",
    "def get_weights(train_val_df):\n",
    "    \n",
    "    neg, pos = np.bincount(train_val_df)\n",
    "    total = neg + pos\n",
    "    # Scaling by total/2 helps keep the loss to a similar magnitude.\n",
    "    # The sum of the weights of all examples stays the same.\n",
    "    weight_for_0 = (1 / neg)*(total)/2.0 \n",
    "    weight_for_1 = (1 / pos)*(total)/2.0\n",
    "\n",
    "    class_weight = {0: weight_for_0, 1: weight_for_1}\n",
    "\n",
    "    return class_weight\n",
    "\n",
    "\n",
    "def prepare_data_train_final(embeddings_index):\n",
    "\n",
    "    X_train = train_df['tweet_text']\n",
    "    Y_train = train_df['text_info']\n",
    "\n",
    "    X_valid = valid_df['tweet_text']\n",
    "    Y_valid = valid_df['text_info']\n",
    "\n",
    "    X_test = test_df['tweet_text']\n",
    "    Y_test = test_df['text_info']\n",
    "\n",
    "    tok=text.Tokenizer(num_words=max_features,lower=True)\n",
    "    tok.fit_on_texts(list(X_train)+list(X_test)+list(X_valid))\n",
    "\n",
    "    X_test = tok.texts_to_sequences(X_test)\n",
    "    X_test = sequence.pad_sequences(X_test,maxlen=max_len)\n",
    "\n",
    "    X_train_f = pd.concat([X_train, X_valid])\n",
    "    Y_train_f = pd.concat([Y_train, Y_valid])\n",
    "\n",
    "    train_valid_sequences = tok.texts_to_sequences(X_train_f)\n",
    "    X_train_f = sequence.pad_sequences(train_valid_sequences,maxlen=max_len)\n",
    "\n",
    "    word_index = tok.word_index\n",
    "    #prepare embedding matrix\n",
    "    num_words = min(max_features, len(word_index) + 1)\n",
    "    embedding_matrix = np.zeros((num_words, embed_size))\n",
    "    \n",
    "    for word, i in word_index.items():\n",
    "        if i >= max_features:\n",
    "            continue\n",
    "        embedding_vector = embeddings_index.get(word)\n",
    "        if embedding_vector is not None:\n",
    "            # words not found in embedding index will be all-zeros.\n",
    "            embedding_matrix[i] = embedding_vector\n",
    "    return embedding_matrix, X_train_f, Y_train_f, X_test, Y_test \n",
    "\n",
    "\n",
    "\n",
    "def prepare_data_train(embeddings_index):\n",
    "\n",
    "    X_train = train_df['tweet_text']\n",
    "    Y_train = train_df['text_info']\n",
    "\n",
    "    X_valid = valid_df['tweet_text']\n",
    "    Y_valid = valid_df['text_info']\n",
    "\n",
    "    X_test = test_df['tweet_text']\n",
    "    Y_test = test_df['text_info']\n",
    "\n",
    "    tok=text.Tokenizer(num_words=max_features,lower=True)\n",
    "    tok.fit_on_texts(list(X_train)+list(X_test)+list(X_valid))\n",
    "\n",
    "    X_train = tok.texts_to_sequences(X_train)\n",
    "    X_train = sequence.pad_sequences(X_train,maxlen=max_len)\n",
    "\n",
    "    X_valid = tok.texts_to_sequences(X_valid)\n",
    "    X_valid = sequence.pad_sequences(X_valid,maxlen=max_len)\n",
    "\n",
    "    X_test = tok.texts_to_sequences(X_test)\n",
    "    X_test = sequence.pad_sequences(X_test,maxlen=max_len)\n",
    "\n",
    "    word_index = tok.word_index\n",
    "    #prepare embedding matrix\n",
    "    num_words = min(max_features, len(word_index) + 1)\n",
    "    embedding_matrix = np.zeros((num_words, embed_size))\n",
    "    \n",
    "    for word, i in word_index.items():\n",
    "        if i >= max_features:\n",
    "            continue\n",
    "        embedding_vector = embeddings_index.get(word)\n",
    "        if embedding_vector is not None:\n",
    "            # words not found in embedding index will be all-zeros.\n",
    "            embedding_matrix[i] = embedding_vector\n",
    "    return embedding_matrix, X_train, Y_train, X_test, Y_test, X_valid, Y_valid\n",
    "\n",
    "\n",
    "\n",
    "def get_embeddings():\n",
    "    embeddings_index = {}\n",
    "    with open(EMBEDDING_FILE,encoding='utf8') as f:\n",
    "        for line in f:\n",
    "            values = line.rstrip().rsplit(' ')\n",
    "            word = values[0]\n",
    "            coefs = np.asarray(values[1:], dtype='float32')\n",
    "            embeddings_index[word] = coefs\n",
    "    return embeddings_index\n",
    "\n",
    "\n",
    "\n",
    "def evaluate(X_test_f, Y_test_f, model):\n",
    "    \n",
    "    accr = model.evaluate(X_test_f,Y_test_f)\n",
    "    predictions = model.predict(X_test_f)\n",
    "    p = 0.5\n",
    "    cm =  confusion_matrix(Y_test_f, predictions > p)\n",
    "    plot_confusion_matrix(cm, classes=[\"Informative\",\"Noninforamtive\"], normalize=True,\n",
    "                      title='Normalized confusion matrix')\n",
    "    return predictions\n",
    "\n",
    "\n",
    "def print_report(Y, predictions):\n",
    "    predictions[predictions >0.5] = 1\n",
    "    predictions[predictions <=0.5] = 0\n",
    "    return classification_report(Y, predictions, target_names=[\"Informative\", \"Noninformative\"])"
   ]
  },
  {
   "cell_type": "code",
   "execution_count": 4,
   "metadata": {},
   "outputs": [],
   "source": [
    "embeddings_index = get_embeddings()"
   ]
  },
  {
   "cell_type": "markdown",
   "metadata": {},
   "source": [
    "## FIRST TIME TRAIN"
   ]
  },
  {
   "cell_type": "code",
   "execution_count": 9,
   "metadata": {},
   "outputs": [
    {
     "name": "stdout",
     "output_type": "stream",
     "text": [
      "Epoch 1/8\n",
      "70/70 [==============================] - 33s 469ms/step - loss: 0.5019 - tp: 5805.0000 - fp: 964.0000 - tn: 2693.0000 - fn: 1386.0000 - accuracy: 0.7834 - precision: 0.8576 - recall: 0.8073 - auc: 0.8452 - val_loss: 0.4336 - val_tp: 1072.0000 - val_fp: 163.0000 - val_tn: 479.0000 - val_fn: 200.0000 - val_accuracy: 0.8103 - val_precision: 0.8680 - val_recall: 0.8428 - val_auc: 0.8791\n",
      "Epoch 2/8\n",
      "70/70 [==============================] - 32s 456ms/step - loss: 0.4396 - tp: 4889.0000 - fp: 726.0000 - tn: 2285.0000 - fn: 1033.0000 - accuracy: 0.8031 - precision: 0.8707 - recall: 0.8256 - auc: 0.8750 - val_loss: 0.4103 - val_tp: 1098.0000 - val_fp: 160.0000 - val_tn: 482.0000 - val_fn: 174.0000 - val_accuracy: 0.8255 - val_precision: 0.8728 - val_recall: 0.8632 - val_auc: 0.8844\n",
      "Epoch 3/8\n",
      "70/70 [==============================] - 32s 451ms/step - loss: 0.4203 - tp: 4889.0000 - fp: 665.0000 - tn: 2346.0000 - fn: 1033.0000 - accuracy: 0.8099 - precision: 0.8803 - recall: 0.8256 - auc: 0.8866 - val_loss: 0.4141 - val_tp: 1054.0000 - val_fp: 141.0000 - val_tn: 501.0000 - val_fn: 218.0000 - val_accuracy: 0.8124 - val_precision: 0.8820 - val_recall: 0.8286 - val_auc: 0.8883\n"
     ]
    }
   ],
   "source": [
    "embedding_matrix, X_train, Y_train, X_test, Y_test, X_valid, Y_valid= prepare_data_train(embeddings_index)\n",
    "model = BiLSTM()\n",
    "training_history = model.fit(X_train,Y_train,batch_size=128,epochs=8,\\\n",
    "                             validation_data = (X_valid, Y_valid),\\\n",
    "                             class_weight = class_weight,callbacks=[EarlyStopping(monitor='val_loss',min_delta=0.001)],verbose=1 )"
   ]
  },
  {
   "cell_type": "markdown",
   "metadata": {},
   "source": [
    "## EVALUATE MODEL"
   ]
  },
  {
   "cell_type": "code",
   "execution_count": 10,
   "metadata": {},
   "outputs": [
    {
     "name": "stdout",
     "output_type": "stream",
     "text": [
      "60/60 [==============================] - 2s 35ms/step - loss: 0.4046 - tp: 1044.0000 - fp: 123.0000 - tn: 523.0000 - fn: 225.0000 - accuracy: 0.8183 - precision: 0.8946 - recall: 0.8227 - auc: 0.8960\n"
     ]
    },
    {
     "data": {
      "image/png": "[encoded data removed]",
      "text/plain": [
       "<Figure size 432x288 with 2 Axes>"
      ]
     },
     "metadata": {
      "needs_background": "light"
     },
     "output_type": "display_data"
    }
   ],
   "source": [
    "predictions = evaluate(X_test, Y_test, model)"
   ]
  },
  {
   "cell_type": "code",
   "execution_count": 12,
   "metadata": {},
   "outputs": [
    {
     "name": "stdout",
     "output_type": "stream",
     "text": [
      "                precision    recall  f1-score   support\n",
      "\n",
      "   Informative       0.70      0.81      0.75       646\n",
      "Noninformative       0.89      0.82      0.86      1269\n",
      "\n",
      "      accuracy                           0.82      1915\n",
      "     macro avg       0.80      0.82      0.80      1915\n",
      "  weighted avg       0.83      0.82      0.82      1915\n",
      "\n"
     ]
    }
   ],
   "source": [
    "print(print_report(Y_test, predictions))"
   ]
  },
  {
   "cell_type": "markdown",
   "metadata": {},
   "source": [
    "## SECOND TRAINING TRAIN DATA = TRAIN + VALIDATION DATA"
   ]
  },
  {
   "cell_type": "code",
   "execution_count": 14,
   "metadata": {},
   "outputs": [
    {
     "name": "stdout",
     "output_type": "stream",
     "text": [
      "Epoch 1/8\n",
      "85/85 [==============================] - 39s 453ms/step - loss: 0.4919 - tp: 6904.0000 - fp: 1177.0000 - tn: 3122.0000 - fn: 1559.0000 - accuracy: 0.7856 - precision: 0.8543 - recall: 0.8158 - auc: 0.8497 - val_loss: 0.4859 - val_tp: 951.0000 - val_fp: 105.0000 - val_tn: 541.0000 - val_fn: 318.0000 - val_accuracy: 0.7791 - val_precision: 0.9006 - val_recall: 0.7494 - val_auc: 0.8807\n",
      "Epoch 2/8\n",
      "85/85 [==============================] - 38s 446ms/step - loss: 0.4384 - tp: 5959.0000 - fp: 864.0000 - tn: 2789.0000 - fn: 1235.0000 - accuracy: 0.8065 - precision: 0.8734 - recall: 0.8283 - auc: 0.8759 - val_loss: 0.4225 - val_tp: 1033.0000 - val_fp: 128.0000 - val_tn: 518.0000 - val_fn: 236.0000 - val_accuracy: 0.8099 - val_precision: 0.8898 - val_recall: 0.8140 - val_auc: 0.8936\n",
      "Epoch 3/8\n",
      "85/85 [==============================] - 38s 446ms/step - loss: 0.4170 - tp: 5899.0000 - fp: 799.0000 - tn: 2854.0000 - fn: 1295.0000 - accuracy: 0.8070 - precision: 0.8807 - recall: 0.8200 - auc: 0.8882 - val_loss: 0.3976 - val_tp: 1083.0000 - val_fp: 154.0000 - val_tn: 492.0000 - val_fn: 186.0000 - val_accuracy: 0.8225 - val_precision: 0.8755 - val_recall: 0.8534 - val_auc: 0.8956\n",
      "Epoch 4/8\n",
      "85/85 [==============================] - 38s 446ms/step - loss: 0.3980 - tp: 5980.0000 - fp: 736.0000 - tn: 2917.0000 - fn: 1214.0000 - accuracy: 0.8202 - precision: 0.8904 - recall: 0.8312 - auc: 0.8992 - val_loss: 0.4043 - val_tp: 1022.0000 - val_fp: 127.0000 - val_tn: 519.0000 - val_fn: 247.0000 - val_accuracy: 0.8047 - val_precision: 0.8895 - val_recall: 0.8054 - val_auc: 0.8987\n"
     ]
    }
   ],
   "source": [
    "embedding_matrix, X_train, Y_train, X_test, Y_test = prepare_data_train_final(embeddings_index)\n",
    "model = BiLSTM()\n",
    "training_history = model.fit(X_train,Y_train,batch_size=128,epochs=8,\\\n",
    "                             validation_data = (X_test, Y_test),\\\n",
    "                             class_weight = class_weight,callbacks=[EarlyStopping(monitor='val_loss',min_delta=0.001)],verbose=1 )"
   ]
  },
  {
   "cell_type": "markdown",
   "metadata": {},
   "source": [
    "## SAVE MODEL WEIGHTS"
   ]
  },
  {
   "cell_type": "code",
   "execution_count": 49,
   "metadata": {},
   "outputs": [
    {
     "name": "stdout",
     "output_type": "stream",
     "text": [
      "WARNING:tensorflow:From /home/patrycja/anaconda3/envs/crisis_env/lib/python3.8/site-packages/tensorflow/python/training/tracking/tracking.py:111: Model.state_updates (from tensorflow.python.keras.engine.training) is deprecated and will be removed in a future version.\n",
      "Instructions for updating:\n",
      "This property should not be used in TensorFlow 2.0, as updates are applied automatically.\n",
      "WARNING:tensorflow:From /home/patrycja/anaconda3/envs/crisis_env/lib/python3.8/site-packages/tensorflow/python/training/tracking/tracking.py:111: Layer.updates (from tensorflow.python.keras.engine.base_layer) is deprecated and will be removed in a future version.\n",
      "Instructions for updating:\n",
      "This property should not be used in TensorFlow 2.0, as updates are applied automatically.\n",
      "INFO:tensorflow:Assets written to: BiLSTM_acc_84/assets\n"
     ]
    }
   ],
   "source": [
    "model.save('BiLSTM_acc_84')"
   ]
  },
  {
   "cell_type": "markdown",
   "metadata": {},
   "source": [
    "## LOAD MODEL"
   ]
  },
  {
   "cell_type": "code",
   "execution_count": 17,
   "metadata": {},
   "outputs": [],
   "source": [
    "from tensorflow import keras\n",
    "model = keras.models.load_model('BiLSTM_acc_84')"
   ]
  },
  {
   "cell_type": "code",
   "execution_count": 18,
   "metadata": {},
   "outputs": [],
   "source": [
    "embedding_matrix, X_train, Y_train, X_test, Y_test = prepare_data_train_final(embeddings_index)"
   ]
  },
  {
   "cell_type": "code",
   "execution_count": 19,
   "metadata": {},
   "outputs": [
    {
     "name": "stdout",
     "output_type": "stream",
     "text": [
      "60/60 [==============================] - 2s 35ms/step - loss: 0.3815 - tp: 1119.0000 - fp: 159.0000 - tn: 487.0000 - fn: 150.0000 - accuracy: 0.8386 - precision: 0.8756 - recall: 0.8818 - auc: 0.8975\n"
     ]
    },
    {
     "data": {
      "image/png": "[encoded data removed]",
      "text/plain": [
       "<Figure size 432x288 with 2 Axes>"
      ]
     },
     "metadata": {
      "needs_background": "light"
     },
     "output_type": "display_data"
    }
   ],
   "source": [
    "predictions_test = evaluate(X_test, Y_test, model)"
   ]
  },
  {
   "cell_type": "code",
   "execution_count": 20,
   "metadata": {},
   "outputs": [
    {
     "name": "stdout",
     "output_type": "stream",
     "text": [
      "                precision    recall  f1-score   support\n",
      "\n",
      "   Informative       0.76      0.75      0.76       646\n",
      "Noninformative       0.88      0.88      0.88      1269\n",
      "\n",
      "      accuracy                           0.84      1915\n",
      "     macro avg       0.82      0.82      0.82      1915\n",
      "  weighted avg       0.84      0.84      0.84      1915\n",
      "\n"
     ]
    }
   ],
   "source": [
    "print(print_report(Y_test, predictions_test))"
   ]
  },
  {
   "cell_type": "markdown",
   "metadata": {},
   "source": [
    "## SAVE SOME PREDICTIONS"
   ]
  },
  {
   "cell_type": "code",
   "execution_count": 28,
   "metadata": {},
   "outputs": [],
   "source": [
    "X_train_f = pd.concat([train_df,valid_df])\n",
    "X_train_f[\"predictions\"] =predictions_B\n",
    "X_train_f.to_csv(\"predictions_full_train_df.csv\")"
   ]
  },
  {
   "cell_type": "code",
   "execution_count": null,
   "metadata": {},
   "outputs": [],
   "source": [
    "test_df[\"predictions\"] = predictions\n",
    "test_df.to_csv(\"predictions_test_df.csv\")"
   ]
  }
 ],
 "metadata": {
  "kernelspec": {
   "display_name": "Python 3",
   "language": "python",
   "name": "python3"
  },
  "language_info": {
   "codemirror_mode": {
    "name": "ipython",
    "version": 3
   },
   "file_extension": ".py",
   "mimetype": "text/x-python",
   "name": "python",
   "nbconvert_exporter": "python",
   "pygments_lexer": "ipython3",
   "version": "3.8.5"
  }
 },
 "nbformat": 4,
 "nbformat_minor": 4
}
