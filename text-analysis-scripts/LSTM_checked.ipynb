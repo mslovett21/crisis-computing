{
 "cells": [
  {
   "cell_type": "code",
   "execution_count": 80,
   "metadata": {},
   "outputs": [],
   "source": [
    "import pandas as pd\n",
    "import numpy as np\n",
    "import matplotlib.pyplot as plt\n",
    "import seaborn as sns\n",
    "from sklearn.model_selection import train_test_split\n",
    "from sklearn.preprocessing import LabelEncoder\n",
    "from keras.models import Model\n",
    "from keras.layers import LSTM, Activation, Dense, Dropout, Input, Embedding\n",
    "from keras.optimizers import RMSprop\n",
    "from keras.preprocessing.text import Tokenizer\n",
    "from keras.preprocessing import sequence\n",
    "from keras.utils import to_categorical\n",
    "from keras.callbacks import EarlyStopping\n",
    "%matplotlib inline\n",
    "import tensorflow as tf\n",
    "from sklearn.metrics import confusion_matrix\n",
    "\n",
    "import itertools"
   ]
  },
  {
   "cell_type": "code",
   "execution_count": 44,
   "metadata": {},
   "outputs": [],
   "source": [
    "DATA_PATH = \"../data/final_tweets/\"\n",
    "\n",
    "train_df = pd.read_csv(DATA_PATH +'train_df.csv')\n",
    "valid_df = pd.read_csv(DATA_PATH +'validate_df.csv')\n",
    "test_df = pd.read_csv(DATA_PATH + 'test_df.csv')\n",
    "\n",
    "full_dataset_df =  pd.read_csv(DATA_PATH + 'full_tweets_df.csv')\n",
    "\n",
    "X_train = train_df['tweet_text']\n",
    "Y_train = train_df['text_info']\n",
    "\n",
    "X_valid = valid_df['tweet_text']\n",
    "Y_valid = valid_df['text_info']\n",
    "\n",
    "X_test = test_df['tweet_text']\n",
    "Y_test = test_df['text_info']\n",
    "\n",
    "max_words = 1000\n",
    "max_len = 150\n",
    "tok = Tokenizer(num_words=max_words)\n",
    "\n",
    "# train data\n",
    "tok.fit_on_texts(X_train)\n",
    "train_sequences = tok.texts_to_sequences(X_train)\n",
    "train_sequences_matrix = sequence.pad_sequences(train_sequences,maxlen=max_len)\n",
    "\n",
    "# validate data\n",
    "valid_sequences = tok.texts_to_sequences(X_valid)\n",
    "valid_sequences_matrix = sequence.pad_sequences(valid_sequences,maxlen=max_len)\n",
    "\n",
    "# test_data\n",
    "test_sequences = tok.texts_to_sequences(X_test)\n",
    "test_sequences_matrix = sequence.pad_sequences(test_sequences,maxlen=max_len)"
   ]
  },
  {
   "cell_type": "markdown",
   "metadata": {},
   "source": [
    "## Functions"
   ]
  },
  {
   "cell_type": "code",
   "execution_count": 100,
   "metadata": {},
   "outputs": [],
   "source": [
    "def plot_confusion_matrix(cm, classes,\n",
    "                          normalize=False,\n",
    "                          title='Confusion matrix',\n",
    "                          cmap=plt.cm.Blues):\n",
    "    \"\"\"\n",
    "    This function prints and plots the confusion matrix.\n",
    "    Normalization can be applied by setting `normalize=True`.\n",
    "    \"\"\"\n",
    "    plt.imshow(cm, interpolation='nearest', cmap=cmap)\n",
    "    plt.title(title)\n",
    "    plt.colorbar()\n",
    "    tick_marks = np.arange(len(classes))\n",
    "    plt.xticks(tick_marks, classes, rotation=45)\n",
    "    plt.yticks(tick_marks, classes)\n",
    "\n",
    "    if normalize:\n",
    "        cm = cm.astype('float') / cm.sum(axis=1)[:, np.newaxis]\n",
    "    thresh = cm.max() / 2.\n",
    "    for i, j in itertools.product(range(cm.shape[0]), range(cm.shape[1])):\n",
    "        plt.text(j, i, format(cm[i, j], '.3f'),\n",
    "                 horizontalalignment=\"center\",\n",
    "                 color=\"white\" if cm[i, j] > thresh else \"black\")\n",
    "\n",
    "    plt.tight_layout()\n",
    "    plt.ylabel('True label')\n",
    "    plt.xlabel('Predicted label')"
   ]
  },
  {
   "cell_type": "code",
   "execution_count": 101,
   "metadata": {},
   "outputs": [],
   "source": [
    "def plot_summaries(data1, data2, title, ylabel,fname):\n",
    "    plt.plot(data1)\n",
    "    plt.plot(data2)\n",
    "    plt.title(title)\n",
    "    plt.ylabel(ylabel)\n",
    "    plt.xlabel('epoch')\n",
    "    plt.legend(['train', 'validation'], loc='upper left')\n",
    "    plt.savefig(fname+\".png\")"
   ]
  },
  {
   "cell_type": "code",
   "execution_count": 102,
   "metadata": {},
   "outputs": [],
   "source": [
    "def RNN():\n",
    "    inputs = Input(name='inputs',shape=[max_len])\n",
    "    layer = Embedding(max_words,50,input_length=max_len)(inputs)\n",
    "    layer = LSTM(64)(2*layer)\n",
    "    layer = Dense(256,name='FC1')(layer)\n",
    "    layer = Activation('relu')(layer)\n",
    "    layer = Dropout(0.5)(layer)\n",
    "    layer = Dense(1,name='out_layer')(layer)\n",
    "    layer = Activation('sigmoid')(layer)\n",
    "    model = Model(inputs=inputs,outputs=layer)\n",
    "    return model"
   ]
  },
  {
   "cell_type": "markdown",
   "metadata": {},
   "source": [
    "## Unbalanced Dataset"
   ]
  },
  {
   "cell_type": "code",
   "execution_count": 103,
   "metadata": {},
   "outputs": [
    {
     "name": "stdout",
     "output_type": "stream",
     "text": [
      "Examples:\n",
      "    Total: 8933\n",
      "    Positive: 5922 (66.29% of total)\n",
      "\n",
      "Weight for class 0: 1.48\n",
      "Weight for class 1: 0.75\n"
     ]
    }
   ],
   "source": [
    "neg, pos = np.bincount(train_df[\"text_info\"])\n",
    "total = neg + pos\n",
    "print('Examples:\\n    Total: {}\\n    Positive: {} ({:.2f}% of total)\\n'.format(\n",
    "    total, pos, 100 * pos / total))\n",
    "\n",
    "# Scaling by total/2 helps keep the loss to a similar magnitude.\n",
    "# The sum of the weights of all examples stays the same.\n",
    "weight_for_0 = (1 / neg)*(total)/2.0 \n",
    "weight_for_1 = (1 / pos)*(total)/2.0\n",
    "\n",
    "class_weight = {0: weight_for_0, 1: weight_for_1}\n",
    "\n",
    "print('Weight for class 0: {:.2f}'.format(weight_for_0))\n",
    "print('Weight for class 1: {:.2f}'.format(weight_for_1))"
   ]
  },
  {
   "cell_type": "markdown",
   "metadata": {},
   "source": [
    "## With Early Stopping -> Only 2 Epochs (TRAIN ON ONLY TRAINING DATA)"
   ]
  },
  {
   "cell_type": "code",
   "execution_count": 57,
   "metadata": {},
   "outputs": [],
   "source": [
    "METRICS = [\n",
    "      tf.keras.metrics.TruePositives(name='tp'),\n",
    "      tf.keras.metrics.FalsePositives(name='fp'),\n",
    "      tf.keras.metrics.TrueNegatives(name='tn'),\n",
    "      tf.keras.metrics.FalseNegatives(name='fn'), \n",
    "      tf.keras.metrics.BinaryAccuracy(name='accuracy'),\n",
    "      tf.keras.metrics.Precision(name='precision'),\n",
    "      tf.keras.metrics.Recall(name='recall'),\n",
    "      tf.keras.metrics.AUC(name='auc')\n",
    "]"
   ]
  },
  {
   "cell_type": "code",
   "execution_count": 118,
   "metadata": {},
   "outputs": [
    {
     "name": "stdout",
     "output_type": "stream",
     "text": [
      "Epoch 1/10\n",
      "140/140 [==============================] - 11s 76ms/step - loss: 0.5197 - tp: 5688.0000 - fp: 1006.0000 - tn: 2651.0000 - fn: 1503.0000 - accuracy: 0.7687 - precision: 0.8497 - recall: 0.7910 - auc: 0.8358 - val_loss: 0.4187 - val_tp: 1090.0000 - val_fp: 164.0000 - val_tn: 478.0000 - val_fn: 182.0000 - val_accuracy: 0.8192 - val_precision: 0.8692 - val_recall: 0.8569 - val_auc: 0.8803\n",
      "Epoch 2/10\n",
      "140/140 [==============================] - 10s 71ms/step - loss: 0.4084 - tp: 4997.0000 - fp: 644.0000 - tn: 2367.0000 - fn: 925.0000 - accuracy: 0.8244 - precision: 0.8858 - recall: 0.8438 - auc: 0.8956 - val_loss: 0.4102 - val_tp: 1070.0000 - val_fp: 139.0000 - val_tn: 503.0000 - val_fn: 202.0000 - val_accuracy: 0.8218 - val_precision: 0.8850 - val_recall: 0.8412 - val_auc: 0.8871\n",
      "Epoch 3/10\n",
      "140/140 [==============================] - 10s 71ms/step - loss: 0.3841 - tp: 5025.0000 - fp: 584.0000 - tn: 2427.0000 - fn: 897.0000 - accuracy: 0.8342 - precision: 0.8959 - recall: 0.8485 - auc: 0.9085 - val_loss: 0.4174 - val_tp: 1041.0000 - val_fp: 132.0000 - val_tn: 510.0000 - val_fn: 231.0000 - val_accuracy: 0.8103 - val_precision: 0.8875 - val_recall: 0.8184 - val_auc: 0.8877\n",
      "60/60 [==============================] - 1s 14ms/step - loss: 0.3951 - tp: 1015.0000 - fp: 120.0000 - tn: 526.0000 - fn: 254.0000 - accuracy: 0.8047 - precision: 0.8943 - recall: 0.7998 - auc: 0.9029\n"
     ]
    }
   ],
   "source": [
    "model_ES = RNN()\n",
    "model_ES.compile(loss='binary_crossentropy',optimizer=RMSprop(),metrics=METRICS)\n",
    "training_history_ES = model_ES.fit(train_sequences_matrix,Y_train,batch_size=64,epochs=10,\\\n",
    "          validation_data = (valid_sequences_matrix, Y_valid),class_weight=class_weight, \\\n",
    "                                   callbacks=[EarlyStopping(monitor='val_loss',min_delta=0.001)])\n",
    "accr = model_ES.evaluate(test_sequences_matrix,Y_test)"
   ]
  },
  {
   "cell_type": "code",
   "execution_count": 122,
   "metadata": {},
   "outputs": [
    {
     "data": {
      "image/png": "[encoded data removed]",
      "text/plain": [
       "<Figure size 432x288 with 2 Axes>"
      ]
     },
     "metadata": {
      "needs_background": "light"
     },
     "output_type": "display_data"
    }
   ],
   "source": [
    "predictions = model_ES.predict(test_sequences_matrix)\n",
    "p = 0.5\n",
    "cm =  confusion_matrix(Y_test, predictions > p)\n",
    "plot_confusion_matrix(cm, classes=[\"Informative\",\"Noninforamtive\"], normalize=True,\n",
    "                      title='Normalized confusion matrix')"
   ]
  },
  {
   "cell_type": "code",
   "execution_count": 119,
   "metadata": {},
   "outputs": [
    {
     "data": {
      "image/png": "[encoded data removed]",
      "text/plain": [
       "<Figure size 432x288 with 1 Axes>"
      ]
     },
     "metadata": {
      "needs_background": "light"
     },
     "output_type": "display_data"
    }
   ],
   "source": [
    "plot_summaries(training_history_ES.history['accuracy'],training_history_ES.history['val_accuracy'],\\\n",
    "              \"Model Accuracy ES\", \"accuracy\", \"imgs/acc_ES\")"
   ]
  },
  {
   "cell_type": "code",
   "execution_count": 120,
   "metadata": {},
   "outputs": [
    {
     "data": {
      "image/png": "[encoded data removed]",
      "text/plain": [
       "<Figure size 432x288 with 1 Axes>"
      ]
     },
     "metadata": {
      "needs_background": "light"
     },
     "output_type": "display_data"
    }
   ],
   "source": [
    "plot_summaries(training_history_ES.history['loss'],training_history_ES.history['val_loss'],\\\n",
    "              \"Model Loss ES\", \"loss\",\"imgs/loss_ES\")"
   ]
  },
  {
   "cell_type": "markdown",
   "metadata": {},
   "source": [
    "## With Early Stopping -> Only 2 Epochs (TRAIN ON ONLY TRAINING AND VAL DATA DATA)"
   ]
  },
  {
   "cell_type": "code",
   "execution_count": 124,
   "metadata": {},
   "outputs": [],
   "source": [
    "# validate data\n",
    "train_val_df = pd.concat([X_train, X_valid])\n",
    "Y_train_val  = pd.concat([Y_train, Y_valid])\n",
    "train_valid_sequences = tok.texts_to_sequences(train_val_df)\n",
    "train_valid_sequences_matrix = sequence.pad_sequences(train_valid_sequences,maxlen=max_len)"
   ]
  },
  {
   "cell_type": "code",
   "execution_count": 136,
   "metadata": {},
   "outputs": [
    {
     "name": "stdout",
     "output_type": "stream",
     "text": [
      "Examples:\n",
      "    Total: 10847\n",
      "    Positive: 7194 (66.32% of total)\n",
      "\n",
      "Weight for class 0: 1.48\n",
      "Weight for class 1: 0.75\n"
     ]
    }
   ],
   "source": [
    "neg, pos = np.bincount(Y_train_val)\n",
    "total = neg + pos\n",
    "print('Examples:\\n    Total: {}\\n    Positive: {} ({:.2f}% of total)\\n'.format(\n",
    "    total, pos, 100 * pos / total))\n",
    "\n",
    "# Scaling by total/2 helps keep the loss to a similar magnitude.\n",
    "# The sum of the weights of all examples stays the same.\n",
    "weight_for_0 = (1 / neg)*(total)/2.0 \n",
    "weight_for_1 = (1 / pos)*(total)/2.0\n",
    "\n",
    "class_weight = {0: weight_for_0, 1: weight_for_1}\n",
    "\n",
    "print('Weight for class 0: {:.2f}'.format(weight_for_0))\n",
    "print('Weight for class 1: {:.2f}'.format(weight_for_1))"
   ]
  },
  {
   "cell_type": "code",
   "execution_count": 139,
   "metadata": {},
   "outputs": [
    {
     "name": "stdout",
     "output_type": "stream",
     "text": [
      "Epoch 1/6\n",
      "170/170 [==============================] - 11s 67ms/step - loss: 0.5012 - tp: 6491.0000 - fp: 1041.0000 - tn: 3258.0000 - fn: 1972.0000 - accuracy: 0.7639 - precision: 0.8618 - recall: 0.7670 - auc: 0.8455\n",
      "Epoch 2/6\n",
      "170/170 [==============================] - 11s 67ms/step - loss: 0.4051 - tp: 6098.0000 - fp: 777.0000 - tn: 2876.0000 - fn: 1096.0000 - accuracy: 0.8273 - precision: 0.8870 - recall: 0.8477 - auc: 0.8970\n",
      "Epoch 3/6\n",
      "170/170 [==============================] - 11s 67ms/step - loss: 0.3856 - tp: 6084.0000 - fp: 709.0000 - tn: 2944.0000 - fn: 1110.0000 - accuracy: 0.8323 - precision: 0.8956 - recall: 0.8457 - auc: 0.9074\n",
      "Epoch 4/6\n",
      "170/170 [==============================] - 11s 67ms/step - loss: 0.3699 - tp: 6069.0000 - fp: 675.0000 - tn: 2978.0000 - fn: 1125.0000 - accuracy: 0.8341 - precision: 0.8999 - recall: 0.8436 - auc: 0.9147\n",
      "Epoch 5/6\n",
      "170/170 [==============================] - 11s 67ms/step - loss: 0.3688 - tp: 6035.0000 - fp: 623.0000 - tn: 3030.0000 - fn: 1159.0000 - accuracy: 0.8357 - precision: 0.9064 - recall: 0.8389 - auc: 0.9172\n",
      "Epoch 6/6\n",
      "170/170 [==============================] - 11s 67ms/step - loss: 0.3450 - tp: 6095.0000 - fp: 610.0000 - tn: 3043.0000 - fn: 1099.0000 - accuracy: 0.8424 - precision: 0.9090 - recall: 0.8472 - auc: 0.9256\n",
      "60/60 [==============================] - 1s 14ms/step - loss: 0.3961 - tp: 1053.0000 - fp: 117.0000 - tn: 529.0000 - fn: 216.0000 - accuracy: 0.8261 - precision: 0.9000 - recall: 0.8298 - auc: 0.9048\n"
     ]
    }
   ],
   "source": [
    "model_ES = RNN()\n",
    "model_ES.compile(loss='binary_crossentropy',optimizer=RMSprop(),metrics=METRICS)\n",
    "training_history_ES = model_ES.fit(train_valid_sequences_matrix,Y_train_val,batch_size=64,epochs=6,\\\n",
    "                                   class_weight=class_weight)\n",
    "accr = model_ES.evaluate(test_sequences_matrix,Y_test)"
   ]
  },
  {
   "cell_type": "code",
   "execution_count": 140,
   "metadata": {},
   "outputs": [
    {
     "data": {
      "image/png": "[encoded data removed]",
      "text/plain": [
       "<Figure size 432x288 with 2 Axes>"
      ]
     },
     "metadata": {
      "needs_background": "light"
     },
     "output_type": "display_data"
    }
   ],
   "source": [
    "predictions = model_ES.predict(test_sequences_matrix)\n",
    "p = 0.5\n",
    "cm =  confusion_matrix(Y_test, predictions > p)\n",
    "plot_confusion_matrix(cm, classes=[\"Informative\",\"Noninforamtive\"], normalize=True,\n",
    "                      title='Normalized confusion matrix')"
   ]
  },
  {
   "cell_type": "code",
   "execution_count": 143,
   "metadata": {},
   "outputs": [
    {
     "name": "stdout",
     "output_type": "stream",
     "text": [
      "                precision    recall  f1-score   support\n",
      "\n",
      "   Informative       0.71      0.82      0.76       646\n",
      "Noninforamtive       0.90      0.83      0.86      1269\n",
      "\n",
      "      accuracy                           0.83      1915\n",
      "     macro avg       0.81      0.82      0.81      1915\n",
      "  weighted avg       0.84      0.83      0.83      1915\n",
      "\n"
     ]
    }
   ],
   "source": [
    "from sklearn.metrics import classification_report\n",
    "target_names = [\"Informative\",\"Noninforamtive\"]\n",
    "predictions[predictions >0.5] = 1\n",
    "predictions[predictions <=0.5] = 0\n",
    "print(classification_report(Y_test, predictions, target_names=target_names))"
   ]
  },
  {
   "cell_type": "code",
   "execution_count": null,
   "metadata": {},
   "outputs": [],
   "source": []
  }
 ],
 "metadata": {
  "kernelspec": {
   "display_name": "Python 3",
   "language": "python",
   "name": "python3"
  },
  "language_info": {
   "codemirror_mode": {
    "name": "ipython",
    "version": 3
   },
   "file_extension": ".py",
   "mimetype": "text/x-python",
   "name": "python",
   "nbconvert_exporter": "python",
   "pygments_lexer": "ipython3",
   "version": "3.8.5"
  }
 },
 "nbformat": 4,
 "nbformat_minor": 4
}
