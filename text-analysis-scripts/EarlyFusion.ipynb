{
 "cells": [
  {
   "cell_type": "code",
   "execution_count": 5,
   "metadata": {},
   "outputs": [],
   "source": [
    "import os\n",
    "import pandas as pd\n",
    "from shutil import copy\n",
    "import glob\n",
    "import numpy as np\n",
    "import torch"
   ]
  },
  {
   "cell_type": "markdown",
   "metadata": {},
   "source": [
    "# Read-in Represenations of Image Data"
   ]
  },
  {
   "cell_type": "code",
   "execution_count": 12,
   "metadata": {},
   "outputs": [
    {
     "name": "stdout",
     "output_type": "stream",
     "text": [
      "../SupConFeatureRepresentations/val_z.csv\n",
      "../SupConFeatureRepresentations/test_z.csv\n",
      "../SupConFeatureRepresentations/train_z.csv\n"
     ]
    }
   ],
   "source": [
    "# access dataset \n",
    "RELATIVE_PATH_SUPCON = r'../SupConFeatureRepresentations/'\n",
    "Z_FILES = glob.glob(RELATIVE_PATH_SUPCON + \"/*z.csv\")\n",
    "Z_FILES\n",
    "\n",
    "# 128 vectors\n",
    "data = []\n",
    "for f in Z_FILES:\n",
    "    print(f)\n",
    "    df = pd.read_csv(f, sep=',', error_bad_lines=False)\n",
    "    df = df[['tweet_id', 'image_id', 'actual label', 'features']]\n",
    "    df['features'] = df['features'].apply(lambda x: np.fromstring(x.replace(\"|\", \" \"), sep=' '), 0)\n",
    "    data.append(df)\n",
    "    \n",
    "img_val, img_test, img_train = data"
   ]
  },
  {
   "cell_type": "code",
   "execution_count": 13,
   "metadata": {},
   "outputs": [],
   "source": [
    "x, y,z = len(img_train), len(img_val), len(img_test)"
   ]
  },
  {
   "cell_type": "code",
   "execution_count": 14,
   "metadata": {},
   "outputs": [
    {
     "name": "stdout",
     "output_type": "stream",
     "text": [
      "11878 2464 2576\n"
     ]
    }
   ],
   "source": [
    "print(x,y,z)"
   ]
  },
  {
   "cell_type": "code",
   "execution_count": 7,
   "metadata": {},
   "outputs": [
    {
     "data": {
      "text/html": [
       "<div>\n",
       "<style scoped>\n",
       "    .dataframe tbody tr th:only-of-type {\n",
       "        vertical-align: middle;\n",
       "    }\n",
       "\n",
       "    .dataframe tbody tr th {\n",
       "        vertical-align: top;\n",
       "    }\n",
       "\n",
       "    .dataframe thead th {\n",
       "        text-align: right;\n",
       "    }\n",
       "</style>\n",
       "<table border=\"1\" class=\"dataframe\">\n",
       "  <thead>\n",
       "    <tr style=\"text-align: right;\">\n",
       "      <th></th>\n",
       "      <th>tweet_id</th>\n",
       "      <th>image_id</th>\n",
       "      <th>actual label</th>\n",
       "      <th>features</th>\n",
       "    </tr>\n",
       "  </thead>\n",
       "  <tbody>\n",
       "    <tr>\n",
       "      <th>0</th>\n",
       "      <td>909474490870059014</td>\n",
       "      <td>909474490870059014_0</td>\n",
       "      <td>0</td>\n",
       "      <td>[-0.096236, -0.158864, -0.022322, 0.098831, 0....</td>\n",
       "    </tr>\n",
       "    <tr>\n",
       "      <th>1</th>\n",
       "      <td>906844870538665984</td>\n",
       "      <td>906844870538665984_0</td>\n",
       "      <td>0</td>\n",
       "      <td>[-0.096429, -0.166481, -0.019935, 0.095985, 0....</td>\n",
       "    </tr>\n",
       "    <tr>\n",
       "      <th>2</th>\n",
       "      <td>909435887200718848</td>\n",
       "      <td>909435887200718848_0</td>\n",
       "      <td>1</td>\n",
       "      <td>[-0.09579, -0.166469, -0.018783, 0.098647, 0.0...</td>\n",
       "    </tr>\n",
       "    <tr>\n",
       "      <th>3</th>\n",
       "      <td>909458363850862592</td>\n",
       "      <td>909458363850862592_0</td>\n",
       "      <td>1</td>\n",
       "      <td>[-0.097234, -0.168602, -0.016127, 0.100168, 0....</td>\n",
       "    </tr>\n",
       "    <tr>\n",
       "      <th>4</th>\n",
       "      <td>912962261622378496</td>\n",
       "      <td>912962261622378496_0</td>\n",
       "      <td>1</td>\n",
       "      <td>[-0.092785, -0.163104, -0.016705, 0.099005, 0....</td>\n",
       "    </tr>\n",
       "  </tbody>\n",
       "</table>\n",
       "</div>"
      ],
      "text/plain": [
       "             tweet_id              image_id  actual label  \\\n",
       "0  909474490870059014  909474490870059014_0             0   \n",
       "1  906844870538665984  906844870538665984_0             0   \n",
       "2  909435887200718848  909435887200718848_0             1   \n",
       "3  909458363850862592  909458363850862592_0             1   \n",
       "4  912962261622378496  912962261622378496_0             1   \n",
       "\n",
       "                                            features  \n",
       "0  [-0.096236, -0.158864, -0.022322, 0.098831, 0....  \n",
       "1  [-0.096429, -0.166481, -0.019935, 0.095985, 0....  \n",
       "2  [-0.09579, -0.166469, -0.018783, 0.098647, 0.0...  \n",
       "3  [-0.097234, -0.168602, -0.016127, 0.100168, 0....  \n",
       "4  [-0.092785, -0.163104, -0.016705, 0.099005, 0....  "
      ]
     },
     "execution_count": 7,
     "metadata": {},
     "output_type": "execute_result"
    }
   ],
   "source": [
    "val.head()"
   ]
  },
  {
   "cell_type": "markdown",
   "metadata": {},
   "source": [
    "# Read-in Text Representation"
   ]
  },
  {
   "cell_type": "code",
   "execution_count": 126,
   "metadata": {},
   "outputs": [],
   "source": [
    "RELATIVE_PATH_EMB = r'../data/final_embeddings_whole_dataset.csv'\n",
    "tweet_emb_df = pd.read_csv(RELATIVE_PATH_EMB , sep=',', error_bad_lines=False)\n",
    "tweet_emb_df.head()\n",
    "embeddings = pd.read_csv(\"pd_all_emb.csv\", sep=',',header=None).head(2)"
   ]
  },
  {
   "cell_type": "code",
   "execution_count": 128,
   "metadata": {},
   "outputs": [
    {
     "data": {
      "text/html": [
       "<div>\n",
       "<style scoped>\n",
       "    .dataframe tbody tr th:only-of-type {\n",
       "        vertical-align: middle;\n",
       "    }\n",
       "\n",
       "    .dataframe tbody tr th {\n",
       "        vertical-align: top;\n",
       "    }\n",
       "\n",
       "    .dataframe thead th {\n",
       "        text-align: right;\n",
       "    }\n",
       "</style>\n",
       "<table border=\"1\" class=\"dataframe\">\n",
       "  <thead>\n",
       "    <tr style=\"text-align: right;\">\n",
       "      <th></th>\n",
       "      <th>0</th>\n",
       "      <th>1</th>\n",
       "      <th>2</th>\n",
       "      <th>3</th>\n",
       "      <th>4</th>\n",
       "      <th>5</th>\n",
       "      <th>6</th>\n",
       "      <th>7</th>\n",
       "      <th>8</th>\n",
       "      <th>9</th>\n",
       "      <th>...</th>\n",
       "      <th>54</th>\n",
       "      <th>55</th>\n",
       "      <th>56</th>\n",
       "      <th>57</th>\n",
       "      <th>58</th>\n",
       "      <th>59</th>\n",
       "      <th>60</th>\n",
       "      <th>61</th>\n",
       "      <th>62</th>\n",
       "      <th>63</th>\n",
       "    </tr>\n",
       "  </thead>\n",
       "  <tbody>\n",
       "    <tr>\n",
       "      <th>0</th>\n",
       "      <td>0.046911</td>\n",
       "      <td>0.104039</td>\n",
       "      <td>0.080677</td>\n",
       "      <td>0.130218</td>\n",
       "      <td>0.138316</td>\n",
       "      <td>0.065321</td>\n",
       "      <td>0.057658</td>\n",
       "      <td>0.062567</td>\n",
       "      <td>0.106187</td>\n",
       "      <td>0.041806</td>\n",
       "      <td>...</td>\n",
       "      <td>0.0</td>\n",
       "      <td>0.0</td>\n",
       "      <td>0.0</td>\n",
       "      <td>0.0</td>\n",
       "      <td>0.0</td>\n",
       "      <td>0.0</td>\n",
       "      <td>0.0</td>\n",
       "      <td>0.0</td>\n",
       "      <td>0.0</td>\n",
       "      <td>0.0</td>\n",
       "    </tr>\n",
       "    <tr>\n",
       "      <th>1</th>\n",
       "      <td>0.048901</td>\n",
       "      <td>0.109742</td>\n",
       "      <td>0.091063</td>\n",
       "      <td>0.120951</td>\n",
       "      <td>0.155213</td>\n",
       "      <td>0.076462</td>\n",
       "      <td>0.053102</td>\n",
       "      <td>0.083131</td>\n",
       "      <td>0.100610</td>\n",
       "      <td>0.068814</td>\n",
       "      <td>...</td>\n",
       "      <td>0.0</td>\n",
       "      <td>0.0</td>\n",
       "      <td>0.0</td>\n",
       "      <td>0.0</td>\n",
       "      <td>0.0</td>\n",
       "      <td>0.0</td>\n",
       "      <td>0.0</td>\n",
       "      <td>0.0</td>\n",
       "      <td>0.0</td>\n",
       "      <td>0.0</td>\n",
       "    </tr>\n",
       "  </tbody>\n",
       "</table>\n",
       "<p>2 rows × 64 columns</p>\n",
       "</div>"
      ],
      "text/plain": [
       "          0         1         2         3         4         5         6  \\\n",
       "0  0.046911  0.104039  0.080677  0.130218  0.138316  0.065321  0.057658   \n",
       "1  0.048901  0.109742  0.091063  0.120951  0.155213  0.076462  0.053102   \n",
       "\n",
       "          7         8         9  ...   54   55   56   57   58   59   60   61  \\\n",
       "0  0.062567  0.106187  0.041806  ...  0.0  0.0  0.0  0.0  0.0  0.0  0.0  0.0   \n",
       "1  0.083131  0.100610  0.068814  ...  0.0  0.0  0.0  0.0  0.0  0.0  0.0  0.0   \n",
       "\n",
       "    62   63  \n",
       "0  0.0  0.0  \n",
       "1  0.0  0.0  \n",
       "\n",
       "[2 rows x 64 columns]"
      ]
     },
     "execution_count": 128,
     "metadata": {},
     "output_type": "execute_result"
    }
   ],
   "source": [
    "embeddings = pd.read_csv(\"pd_all_emb.csv\", sep=',')\n",
    "embeddings.head(2)"
   ]
  },
  {
   "cell_type": "code",
   "execution_count": 129,
   "metadata": {},
   "outputs": [],
   "source": [
    "final_emb = list()\n",
    "for i in range(len(embeddings.values)):\n",
    "    final_emb.append(embeddings.values[i])"
   ]
  },
  {
   "cell_type": "code",
   "execution_count": 130,
   "metadata": {},
   "outputs": [],
   "source": [
    "tweet_emb_df[\"emb\"] = final_emb"
   ]
  },
  {
   "cell_type": "code",
   "execution_count": 131,
   "metadata": {},
   "outputs": [],
   "source": [
    "ltrain, lvalid, ltest = 8933,1914,1915\n",
    "leval = ltrain + lvalid\n",
    "tweet_train = tweet_emb_df[:ltrain]\n",
    "tweet_val   = tweet_emb_df[ltrain:leval]\n",
    "tweet_test  = tweet_emb_df[leval:]"
   ]
  },
  {
   "cell_type": "markdown",
   "metadata": {},
   "source": [
    "## Match Images and Tweets"
   ]
  },
  {
   "cell_type": "code",
   "execution_count": 133,
   "metadata": {},
   "outputs": [],
   "source": [
    "test_data = pd.merge(tweet_test,img_test, on=\"tweet_id\")\n",
    "val_data = pd.merge(tweet_val,img_val, on=\"tweet_id\")\n",
    "train_data = pd.merge(tweet_train,img_train, on=\"tweet_id\")"
   ]
  },
  {
   "cell_type": "code",
   "execution_count": 191,
   "metadata": {},
   "outputs": [],
   "source": [
    "train_fea = train_data.features.values\n",
    "train_emb = train_data.emb.values\n",
    "\n",
    "joint_features_train = []\n",
    "for i,j in zip(train_fea,train_emb):\n",
    "    z = np.array(list(i) +list(j))\n",
    "    joint_features_train.append(z)\n",
    "    \n",
    "train_data[\"joint\"]= joint_features_train\n",
    "\n",
    "train_fdatat = train_data[['tweet_id',  'text_info','image_id', 'joint']]\n",
    "\n",
    "train_data.to_csv(\"train_data_joint_rep.csv\",index=False)"
   ]
  },
  {
   "cell_type": "code",
   "execution_count": 200,
   "metadata": {},
   "outputs": [
    {
     "data": {
      "text/plain": [
       "Index(['tweet_id', 'text_info_conf', 'tweet_text', 'text_info', 'input_ids',\n",
       "       'attention', 'label_np', 'embedding', 'id_check', 'emb', 'image_id',\n",
       "       'actual label', 'features', 'joint'],\n",
       "      dtype='object')"
      ]
     },
     "execution_count": 200,
     "metadata": {},
     "output_type": "execute_result"
    }
   ],
   "source": [
    "train_data.columns"
   ]
  },
  {
   "cell_type": "code",
   "execution_count": 203,
   "metadata": {},
   "outputs": [],
   "source": [
    "train_data = train_data.drop(columns=[ 'text_info_conf', 'tweet_text', 'text_info', 'input_ids',\n",
    "       'attention', 'label_np', 'embedding', 'id_check', 'emb', 'features',])"
   ]
  },
  {
   "cell_type": "code",
   "execution_count": 205,
   "metadata": {},
   "outputs": [],
   "source": [
    "\n",
    "train_data.to_csv(\"train_data_joint_rep.csv\",index=False)"
   ]
  },
  {
   "cell_type": "code",
   "execution_count": 204,
   "metadata": {},
   "outputs": [
    {
     "data": {
      "text/html": [
       "<div>\n",
       "<style scoped>\n",
       "    .dataframe tbody tr th:only-of-type {\n",
       "        vertical-align: middle;\n",
       "    }\n",
       "\n",
       "    .dataframe tbody tr th {\n",
       "        vertical-align: top;\n",
       "    }\n",
       "\n",
       "    .dataframe thead th {\n",
       "        text-align: right;\n",
       "    }\n",
       "</style>\n",
       "<table border=\"1\" class=\"dataframe\">\n",
       "  <thead>\n",
       "    <tr style=\"text-align: right;\">\n",
       "      <th></th>\n",
       "      <th>tweet_id</th>\n",
       "      <th>image_id</th>\n",
       "      <th>actual label</th>\n",
       "      <th>joint</th>\n",
       "    </tr>\n",
       "  </thead>\n",
       "  <tbody>\n",
       "    <tr>\n",
       "      <th>0</th>\n",
       "      <td>923142910958333952</td>\n",
       "      <td>923142910958333952_0</td>\n",
       "      <td>0</td>\n",
       "      <td>[-0.09367, -0.163019, -0.01667, 0.098565, 0.03...</td>\n",
       "    </tr>\n",
       "    <tr>\n",
       "      <th>1</th>\n",
       "      <td>930044157699280896</td>\n",
       "      <td>930044157699280896_0</td>\n",
       "      <td>1</td>\n",
       "      <td>[-0.095589, -0.169625, -0.022822, 0.09779, 0.0...</td>\n",
       "    </tr>\n",
       "  </tbody>\n",
       "</table>\n",
       "</div>"
      ],
      "text/plain": [
       "             tweet_id              image_id  actual label  \\\n",
       "0  923142910958333952  923142910958333952_0             0   \n",
       "1  930044157699280896  930044157699280896_0             1   \n",
       "\n",
       "                                               joint  \n",
       "0  [-0.09367, -0.163019, -0.01667, 0.098565, 0.03...  \n",
       "1  [-0.095589, -0.169625, -0.022822, 0.09779, 0.0...  "
      ]
     },
     "execution_count": 204,
     "metadata": {},
     "output_type": "execute_result"
    }
   ],
   "source": [
    "train_data.head(2)"
   ]
  },
  {
   "cell_type": "code",
   "execution_count": 185,
   "metadata": {},
   "outputs": [],
   "source": [
    "val_fea = val_data.features.values\n",
    "val_emb = val_data.emb.values\n",
    "\n",
    "joint_features_val = []\n",
    "for i,j in zip(val_fea,val_emb):\n",
    "    z = np.array(list(i) +list(j))\n",
    "    joint_features_val.append(z)\n",
    "    \n",
    "val_data[\"joint\"]= joint_features_val\n",
    "\n",
    "val_data = val_data[['tweet_id',  'text_info','image_id', 'joint']]\n",
    "\n",
    "val_data.to_csv(\"val_data_joint_rep.csv\",index=False)"
   ]
  },
  {
   "cell_type": "code",
   "execution_count": 189,
   "metadata": {},
   "outputs": [
    {
     "data": {
      "text/html": [
       "<div>\n",
       "<style scoped>\n",
       "    .dataframe tbody tr th:only-of-type {\n",
       "        vertical-align: middle;\n",
       "    }\n",
       "\n",
       "    .dataframe tbody tr th {\n",
       "        vertical-align: top;\n",
       "    }\n",
       "\n",
       "    .dataframe thead th {\n",
       "        text-align: right;\n",
       "    }\n",
       "</style>\n",
       "<table border=\"1\" class=\"dataframe\">\n",
       "  <thead>\n",
       "    <tr style=\"text-align: right;\">\n",
       "      <th></th>\n",
       "      <th>tweet_id</th>\n",
       "      <th>text_info</th>\n",
       "      <th>image_id</th>\n",
       "      <th>joint</th>\n",
       "    </tr>\n",
       "  </thead>\n",
       "  <tbody>\n",
       "    <tr>\n",
       "      <th>0</th>\n",
       "      <td>909474490870059014</td>\n",
       "      <td>0</td>\n",
       "      <td>909474490870059014_0</td>\n",
       "      <td>[-0.096236, -0.158864, -0.022322, 0.098831, 0....</td>\n",
       "    </tr>\n",
       "    <tr>\n",
       "      <th>1</th>\n",
       "      <td>906844870538665984</td>\n",
       "      <td>0</td>\n",
       "      <td>906844870538665984_0</td>\n",
       "      <td>[-0.096429, -0.166481, -0.019935, 0.095985, 0....</td>\n",
       "    </tr>\n",
       "  </tbody>\n",
       "</table>\n",
       "</div>"
      ],
      "text/plain": [
       "             tweet_id  text_info              image_id  \\\n",
       "0  909474490870059014          0  909474490870059014_0   \n",
       "1  906844870538665984          0  906844870538665984_0   \n",
       "\n",
       "                                               joint  \n",
       "0  [-0.096236, -0.158864, -0.022322, 0.098831, 0....  \n",
       "1  [-0.096429, -0.166481, -0.019935, 0.095985, 0....  "
      ]
     },
     "execution_count": 189,
     "metadata": {},
     "output_type": "execute_result"
    }
   ],
   "source": [
    "val_data.head(2)"
   ]
  },
  {
   "cell_type": "code",
   "execution_count": 186,
   "metadata": {
    "collapsed": true
   },
   "outputs": [
    {
     "ename": "AttributeError",
     "evalue": "'DataFrame' object has no attribute 'features'",
     "output_type": "error",
     "traceback": [
      "\u001b[0;31m---------------------------------------------------------------------------\u001b[0m",
      "\u001b[0;31mAttributeError\u001b[0m                            Traceback (most recent call last)",
      "\u001b[0;32m<ipython-input-186-7bf54b2be374>\u001b[0m in \u001b[0;36m<module>\u001b[0;34m\u001b[0m\n\u001b[0;32m----> 1\u001b[0;31m \u001b[0mtest_fea\u001b[0m \u001b[0;34m=\u001b[0m \u001b[0mtest_data\u001b[0m\u001b[0;34m.\u001b[0m\u001b[0mfeatures\u001b[0m\u001b[0;34m.\u001b[0m\u001b[0mvalues\u001b[0m\u001b[0;34m\u001b[0m\u001b[0;34m\u001b[0m\u001b[0m\n\u001b[0m\u001b[1;32m      2\u001b[0m \u001b[0mtest_emb\u001b[0m \u001b[0;34m=\u001b[0m \u001b[0mtest_data\u001b[0m\u001b[0;34m.\u001b[0m\u001b[0memb\u001b[0m\u001b[0;34m.\u001b[0m\u001b[0mvalues\u001b[0m\u001b[0;34m\u001b[0m\u001b[0;34m\u001b[0m\u001b[0m\n\u001b[1;32m      3\u001b[0m \u001b[0;34m\u001b[0m\u001b[0m\n\u001b[1;32m      4\u001b[0m \u001b[0mjoint_features_test\u001b[0m \u001b[0;34m=\u001b[0m \u001b[0;34m[\u001b[0m\u001b[0;34m]\u001b[0m\u001b[0;34m\u001b[0m\u001b[0;34m\u001b[0m\u001b[0m\n\u001b[1;32m      5\u001b[0m \u001b[0;32mfor\u001b[0m \u001b[0mi\u001b[0m\u001b[0;34m,\u001b[0m\u001b[0mj\u001b[0m \u001b[0;32min\u001b[0m \u001b[0mzip\u001b[0m\u001b[0;34m(\u001b[0m\u001b[0mtest_fea\u001b[0m\u001b[0;34m,\u001b[0m\u001b[0mtest_emb\u001b[0m\u001b[0;34m)\u001b[0m\u001b[0;34m:\u001b[0m\u001b[0;34m\u001b[0m\u001b[0;34m\u001b[0m\u001b[0m\n",
      "\u001b[0;32m~/anaconda3/envs/crisis_env/lib/python3.8/site-packages/pandas/core/generic.py\u001b[0m in \u001b[0;36m__getattr__\u001b[0;34m(self, name)\u001b[0m\n\u001b[1;32m   5137\u001b[0m             \u001b[0;32mif\u001b[0m \u001b[0mself\u001b[0m\u001b[0;34m.\u001b[0m\u001b[0m_info_axis\u001b[0m\u001b[0;34m.\u001b[0m\u001b[0m_can_hold_identifiers_and_holds_name\u001b[0m\u001b[0;34m(\u001b[0m\u001b[0mname\u001b[0m\u001b[0;34m)\u001b[0m\u001b[0;34m:\u001b[0m\u001b[0;34m\u001b[0m\u001b[0;34m\u001b[0m\u001b[0m\n\u001b[1;32m   5138\u001b[0m                 \u001b[0;32mreturn\u001b[0m \u001b[0mself\u001b[0m\u001b[0;34m[\u001b[0m\u001b[0mname\u001b[0m\u001b[0;34m]\u001b[0m\u001b[0;34m\u001b[0m\u001b[0;34m\u001b[0m\u001b[0m\n\u001b[0;32m-> 5139\u001b[0;31m             \u001b[0;32mreturn\u001b[0m \u001b[0mobject\u001b[0m\u001b[0;34m.\u001b[0m\u001b[0m__getattribute__\u001b[0m\u001b[0;34m(\u001b[0m\u001b[0mself\u001b[0m\u001b[0;34m,\u001b[0m \u001b[0mname\u001b[0m\u001b[0;34m)\u001b[0m\u001b[0;34m\u001b[0m\u001b[0;34m\u001b[0m\u001b[0m\n\u001b[0m\u001b[1;32m   5140\u001b[0m \u001b[0;34m\u001b[0m\u001b[0m\n\u001b[1;32m   5141\u001b[0m     \u001b[0;32mdef\u001b[0m \u001b[0m__setattr__\u001b[0m\u001b[0;34m(\u001b[0m\u001b[0mself\u001b[0m\u001b[0;34m,\u001b[0m \u001b[0mname\u001b[0m\u001b[0;34m:\u001b[0m \u001b[0mstr\u001b[0m\u001b[0;34m,\u001b[0m \u001b[0mvalue\u001b[0m\u001b[0;34m)\u001b[0m \u001b[0;34m->\u001b[0m \u001b[0;32mNone\u001b[0m\u001b[0;34m:\u001b[0m\u001b[0;34m\u001b[0m\u001b[0;34m\u001b[0m\u001b[0m\n",
      "\u001b[0;31mAttributeError\u001b[0m: 'DataFrame' object has no attribute 'features'"
     ]
    }
   ],
   "source": [
    "test_fea = test_data.features.values\n",
    "test_emb = test_data.emb.values\n",
    "\n",
    "joint_features_test = []\n",
    "for i,j in zip(test_fea,test_emb):\n",
    "    z = np.array(list(i) +list(j))\n",
    "    joint_features_test.append(z)\n",
    "    \n",
    "test_data[\"joint\"]= joint_features_test\n",
    "\n",
    "test_data =test_data[['tweet_id',  'text_info','image_id', 'joint']]\n",
    "\n",
    "test_data.to_csv(\"test_data_joint_rep.csv\",index=False)"
   ]
  },
  {
   "cell_type": "code",
   "execution_count": 208,
   "metadata": {},
   "outputs": [
    {
     "data": {
      "text/html": [
       "<div>\n",
       "<style scoped>\n",
       "    .dataframe tbody tr th:only-of-type {\n",
       "        vertical-align: middle;\n",
       "    }\n",
       "\n",
       "    .dataframe tbody tr th {\n",
       "        vertical-align: top;\n",
       "    }\n",
       "\n",
       "    .dataframe thead th {\n",
       "        text-align: right;\n",
       "    }\n",
       "</style>\n",
       "<table border=\"1\" class=\"dataframe\">\n",
       "  <thead>\n",
       "    <tr style=\"text-align: right;\">\n",
       "      <th></th>\n",
       "      <th>tweet_id</th>\n",
       "      <th>text_info</th>\n",
       "      <th>image_id</th>\n",
       "      <th>joint</th>\n",
       "    </tr>\n",
       "  </thead>\n",
       "  <tbody>\n",
       "    <tr>\n",
       "      <th>0</th>\n",
       "      <td>912342960682831872</td>\n",
       "      <td>1</td>\n",
       "      <td>912342960682831872_0</td>\n",
       "      <td>[-0.094228, -0.166212, -0.018292, 0.098913, 0....</td>\n",
       "    </tr>\n",
       "    <tr>\n",
       "      <th>1</th>\n",
       "      <td>909869734216257544</td>\n",
       "      <td>1</td>\n",
       "      <td>909869734216257544_0</td>\n",
       "      <td>[-0.095283, -0.164992, -0.018444, 0.097539, 0....</td>\n",
       "    </tr>\n",
       "  </tbody>\n",
       "</table>\n",
       "</div>"
      ],
      "text/plain": [
       "             tweet_id  text_info              image_id  \\\n",
       "0  912342960682831872          1  912342960682831872_0   \n",
       "1  909869734216257544          1  909869734216257544_0   \n",
       "\n",
       "                                               joint  \n",
       "0  [-0.094228, -0.166212, -0.018292, 0.098913, 0....  \n",
       "1  [-0.095283, -0.164992, -0.018444, 0.097539, 0....  "
      ]
     },
     "execution_count": 208,
     "metadata": {},
     "output_type": "execute_result"
    }
   ],
   "source": [
    "test_data.head(2)"
   ]
  },
  {
   "cell_type": "code",
   "execution_count": 188,
   "metadata": {},
   "outputs": [
    {
     "data": {
      "text/html": [
       "<div>\n",
       "<style scoped>\n",
       "    .dataframe tbody tr th:only-of-type {\n",
       "        vertical-align: middle;\n",
       "    }\n",
       "\n",
       "    .dataframe tbody tr th {\n",
       "        vertical-align: top;\n",
       "    }\n",
       "\n",
       "    .dataframe thead th {\n",
       "        text-align: right;\n",
       "    }\n",
       "</style>\n",
       "<table border=\"1\" class=\"dataframe\">\n",
       "  <thead>\n",
       "    <tr style=\"text-align: right;\">\n",
       "      <th></th>\n",
       "      <th>tweet_id</th>\n",
       "      <th>text_info</th>\n",
       "      <th>image_id</th>\n",
       "      <th>joint</th>\n",
       "    </tr>\n",
       "  </thead>\n",
       "  <tbody>\n",
       "    <tr>\n",
       "      <th>0</th>\n",
       "      <td>909474490870059014</td>\n",
       "      <td>0</td>\n",
       "      <td>909474490870059014_0</td>\n",
       "      <td>[-0.096236, -0.158864, -0.022322, 0.098831, 0....</td>\n",
       "    </tr>\n",
       "    <tr>\n",
       "      <th>1</th>\n",
       "      <td>906844870538665984</td>\n",
       "      <td>0</td>\n",
       "      <td>906844870538665984_0</td>\n",
       "      <td>[-0.096429, -0.166481, -0.019935, 0.095985, 0....</td>\n",
       "    </tr>\n",
       "    <tr>\n",
       "      <th>2</th>\n",
       "      <td>909435887200718848</td>\n",
       "      <td>1</td>\n",
       "      <td>909435887200718848_0</td>\n",
       "      <td>[-0.09579, -0.166469, -0.018783, 0.098647, 0.0...</td>\n",
       "    </tr>\n",
       "    <tr>\n",
       "      <th>3</th>\n",
       "      <td>909458363850862592</td>\n",
       "      <td>1</td>\n",
       "      <td>909458363850862592_0</td>\n",
       "      <td>[-0.097234, -0.168602, -0.016127, 0.100168, 0....</td>\n",
       "    </tr>\n",
       "    <tr>\n",
       "      <th>4</th>\n",
       "      <td>912962261622378496</td>\n",
       "      <td>1</td>\n",
       "      <td>912962261622378496_0</td>\n",
       "      <td>[-0.092785, -0.163104, -0.016705, 0.099005, 0....</td>\n",
       "    </tr>\n",
       "    <tr>\n",
       "      <th>...</th>\n",
       "      <td>...</td>\n",
       "      <td>...</td>\n",
       "      <td>...</td>\n",
       "      <td>...</td>\n",
       "    </tr>\n",
       "    <tr>\n",
       "      <th>2727</th>\n",
       "      <td>927941985155141638</td>\n",
       "      <td>0</td>\n",
       "      <td>927941985155141638_0</td>\n",
       "      <td>[-0.091227, -0.164622, -0.017013, 0.092714, 0....</td>\n",
       "    </tr>\n",
       "    <tr>\n",
       "      <th>2728</th>\n",
       "      <td>912417890770579457</td>\n",
       "      <td>1</td>\n",
       "      <td>912417890770579457_0</td>\n",
       "      <td>[-0.095551, -0.163043, -0.016834, 0.102889, 0....</td>\n",
       "    </tr>\n",
       "    <tr>\n",
       "      <th>2729</th>\n",
       "      <td>914148708559630336</td>\n",
       "      <td>1</td>\n",
       "      <td>914148708559630336_0</td>\n",
       "      <td>[-0.091152, -0.16564, -0.019326, 0.101932, 0.0...</td>\n",
       "    </tr>\n",
       "    <tr>\n",
       "      <th>2730</th>\n",
       "      <td>914148708559630336</td>\n",
       "      <td>1</td>\n",
       "      <td>914148708559630336_1</td>\n",
       "      <td>[-0.095746, -0.166874, -0.018904, 0.097426, 0....</td>\n",
       "    </tr>\n",
       "    <tr>\n",
       "      <th>2731</th>\n",
       "      <td>916290992483061760</td>\n",
       "      <td>0</td>\n",
       "      <td>916290992483061760_0</td>\n",
       "      <td>[-0.100559, -0.164786, -0.018003, 0.099887, 0....</td>\n",
       "    </tr>\n",
       "  </tbody>\n",
       "</table>\n",
       "<p>2732 rows × 4 columns</p>\n",
       "</div>"
      ],
      "text/plain": [
       "                tweet_id  text_info              image_id  \\\n",
       "0     909474490870059014          0  909474490870059014_0   \n",
       "1     906844870538665984          0  906844870538665984_0   \n",
       "2     909435887200718848          1  909435887200718848_0   \n",
       "3     909458363850862592          1  909458363850862592_0   \n",
       "4     912962261622378496          1  912962261622378496_0   \n",
       "...                  ...        ...                   ...   \n",
       "2727  927941985155141638          0  927941985155141638_0   \n",
       "2728  912417890770579457          1  912417890770579457_0   \n",
       "2729  914148708559630336          1  914148708559630336_0   \n",
       "2730  914148708559630336          1  914148708559630336_1   \n",
       "2731  916290992483061760          0  916290992483061760_0   \n",
       "\n",
       "                                                  joint  \n",
       "0     [-0.096236, -0.158864, -0.022322, 0.098831, 0....  \n",
       "1     [-0.096429, -0.166481, -0.019935, 0.095985, 0....  \n",
       "2     [-0.09579, -0.166469, -0.018783, 0.098647, 0.0...  \n",
       "3     [-0.097234, -0.168602, -0.016127, 0.100168, 0....  \n",
       "4     [-0.092785, -0.163104, -0.016705, 0.099005, 0....  \n",
       "...                                                 ...  \n",
       "2727  [-0.091227, -0.164622, -0.017013, 0.092714, 0....  \n",
       "2728  [-0.095551, -0.163043, -0.016834, 0.102889, 0....  \n",
       "2729  [-0.091152, -0.16564, -0.019326, 0.101932, 0.0...  \n",
       "2730  [-0.095746, -0.166874, -0.018904, 0.097426, 0....  \n",
       "2731  [-0.100559, -0.164786, -0.018003, 0.099887, 0....  \n",
       "\n",
       "[2732 rows x 4 columns]"
      ]
     },
     "execution_count": 188,
     "metadata": {},
     "output_type": "execute_result"
    }
   ],
   "source": [
    "val_data"
   ]
  },
  {
   "cell_type": "code",
   "execution_count": 231,
   "metadata": {},
   "outputs": [
    {
     "data": {
      "text/plain": [
       "(192,)"
      ]
     },
     "execution_count": 231,
     "metadata": {},
     "output_type": "execute_result"
    }
   ],
   "source": [
    "128 for img, \n",
    "train_data.joint.values[0].shape"
   ]
  },
  {
   "cell_type": "code",
   "execution_count": 226,
   "metadata": {},
   "outputs": [],
   "source": [
    "class Dataset(torch.utils.data.Dataset):\n",
    "\n",
    "    def __init__(self, features, labels):\n",
    "        'Initialization'\n",
    "        self.labels = labels\n",
    "        self.features = features\n",
    "\n",
    "    def __len__(self):\n",
    "        'Denotes the total number of samples'\n",
    "        return len(self.features)\n",
    "\n",
    "    def __getitem__(self, index):\n",
    "        'Generates one sample of data'\n",
    "        # Select sample\n",
    "\n",
    "        # Load data and get label\n",
    "        X = torch.features[index]\n",
    "        y = self.labels[index]\n",
    "\n",
    "        return X, y"
   ]
  },
  {
   "cell_type": "code",
   "execution_count": 227,
   "metadata": {},
   "outputs": [],
   "source": [
    "train = Dataset(train_data[\"joint\"],train_data[\"actual label\"])\n",
    "test = Dataset(test_data[\"joint\"],test_data[\"text_info\"])\n",
    "BATCH_SIZE =32"
   ]
  },
  {
   "cell_type": "code",
   "execution_count": 228,
   "metadata": {},
   "outputs": [],
   "source": [
    "train_dataloader = torch.utils.data.DataLoader(train, batch_size=BATCH_SIZE,shuffle=True)\n",
    "test_dataloader = torch.utils.data.DataLoader(test, batch_size=BATCH_SIZE,shuffle=True)"
   ]
  },
  {
   "cell_type": "code",
   "execution_count": null,
   "metadata": {},
   "outputs": [],
   "source": []
  }
 ],
 "metadata": {
  "kernelspec": {
   "display_name": "Python 3",
   "language": "python",
   "name": "python3"
  },
  "language_info": {
   "codemirror_mode": {
    "name": "ipython",
    "version": 3
   },
   "file_extension": ".py",
   "mimetype": "text/x-python",
   "name": "python",
   "nbconvert_exporter": "python",
   "pygments_lexer": "ipython3",
   "version": "3.8.5"
  }
 },
 "nbformat": 4,
 "nbformat_minor": 4
}
