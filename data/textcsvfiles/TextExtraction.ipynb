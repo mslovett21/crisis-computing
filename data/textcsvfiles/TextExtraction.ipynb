{
  "nbformat": 4,
  "nbformat_minor": 0,
  "metadata": {
    "colab": {
      "name": "TextExtraction.ipynb",
      "provenance": [],
      "collapsed_sections": []
    },
    "kernelspec": {
      "name": "python3",
      "display_name": "Python 3"
    },
    "accelerator": "GPU"
  },
  "cells": [
    {
      "cell_type": "code",
      "metadata": {
        "id": "yUfeBYrwvM-k",
        "outputId": "5240811a-5842-4e06-fe14-91c8889089db",
        "colab": {
          "base_uri": "https://localhost:8080/"
        }
      },
      "source": [
        "import pandas as pd\n",
        "import glob\n",
        "import nltk\n",
        "\n",
        "path = r'textcsvfiles' # use your path\n",
        "all_files = glob.glob(path + \"/*.csv\")\n",
        "\n",
        "li = []\n",
        "\n",
        "for filename in all_files:\n",
        "    df = pd.read_csv(filename, index_col=None, header=0)\n",
        "    df.drop(df.columns.difference(['text']), 1, inplace=True)\n",
        "    li.append(df)\n",
        "\n",
        "frame = pd.concat(li, axis=0, ignore_index=True)\n",
        "frame['text']=frame['text'].apply(str)\n",
        "\n",
        "print(frame)\n"
      ],
      "execution_count": null,
      "outputs": [
        {
          "output_type": "stream",
          "text": [
            "                                                    text\n",
            "0      RT UPDATE: Death toll from Iran’s quake rises ...\n",
            "1      RT We pray for all those affected by the earth...\n",
            "2      RT JUST IN: Death toll reaches 328 in Iran ear...\n",
            "3      RT A magnitude 7.2 earthquake struck northern ...\n",
            "4      Video: 7.2-magnitude earthquake jolts #Iran-Ir...\n",
            "...                                                  ...\n",
            "14857  Houston was built for cars. What happens when ...\n",
            "14858  We delivered our relief efforts to Rockport to...\n",
            "14859  Get your parts from the best in the industry, ...\n",
            "14860  3 hats for #HurricaneHarvey fundraiser. So pre...\n",
            "14861  . students in Houston to aid post-Harvey mosqu...\n",
            "\n",
            "[14862 rows x 1 columns]\n"
          ],
          "name": "stdout"
        }
      ]
    },
    {
      "cell_type": "code",
      "metadata": {
        "id": "mhNZyvpNAwi8",
        "outputId": "e339d77c-684f-4ba5-c268-1f6a30bbdbaf",
        "colab": {
          "base_uri": "https://localhost:8080/"
        }
      },
      "source": [
        "# Removing URL mentions\n",
        "frame['text']=frame['text'].apply(lambda x:' '.join(re.sub(r\"(?:\\@|http?\\://|https?\\://|www)\\S+\", \"\", x).split()))\n",
        "# Removing Hashtags\n",
        "frame['text']=frame['text'].apply(lambda x:' '.join(re.sub(\"(@[A-Za-z0-9]+)|([^0-9A-Za-z \\t])|(\\w+:\\/\\/\\S+)\",\" \",x).split()))\n",
        "# Removing stopwords\n",
        "from nltk.corpus import stopwords\n",
        "from itertools import chain\n",
        "stop = stopwords.words('english')\n",
        "frame['text']=frame['text'].apply(lambda x: ' '.join([word for word in x.split() if word not in (stop)]))\n",
        "# Removing punctuations\n",
        "frame['text']=frame['text'].str.replace('[^\\w\\s]','')\n",
        "print(frame)"
      ],
      "execution_count": null,
      "outputs": [
        {
          "output_type": "stream",
          "text": [
            "                                                    text\n",
            "0      RT UPDATE Death toll Iran quake rises 200 eart...\n",
            "1               RT We pray affected earthquake Iraq Iran\n",
            "2      RT JUST IN Death toll reaches 328 Iran earthqu...\n",
            "3      RT A magnitude 7 2 earthquake struck northern ...\n",
            "4      Video 7 2 magnitude earthquake jolts Iran Iraq...\n",
            "...                                                  ...\n",
            "14857  Houston built cars What happens Harvey destroy...\n",
            "14858  We delivered relief efforts Rockport today tha...\n",
            "14859  Get parts best industry Tornado Heavy Equipmen...\n",
            "14860  3 hats HurricaneHarvey fundraiser So pretty to...\n",
            "14861  students Houston aid post Harvey mosquito cont...\n",
            "\n",
            "[14862 rows x 1 columns]\n"
          ],
          "name": "stdout"
        }
      ]
    }
  ]
}